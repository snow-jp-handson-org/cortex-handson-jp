{
    "cells": [
     {
      "cell_type": "markdown",
      "id": "55c632b3-e82e-4820-9d17-0eed65b819fc",
      "metadata": {
       "collapsed": false,
       "name": "Oveviews_0"
      },
      "source": [
       "# 0. 概要\n",
       "\n",
       "本セッションでは、名寄せを題材とした、Snowflakeの文字列処理やLLM関数を活用しながら、SnowflakeにおけるCortex LLMの活用方法を学ぶ、データエンジニアリング向けセッションである。なお、一部のパートでは皆様と手を動かすところもございます。\n",
       "- **<\\*\\*\\*\\>** のところが皆様に修正して頂きたい点であります。\n"
      ]
     },
     {
      "cell_type": "markdown",
      "id": "361016b3-d626-4497-b751-4e7b3945a6d2",
      "metadata": {
       "collapsed": false,
       "name": "md_data_preparation_1"
      },
      "source": [
       "# 1. データの準備\n",
       "\n",
       "この章では外部にある3種類のCSVファイルをSnowflake テーブルとして投入する"
      ]
     },
     {
      "cell_type": "code",
      "execution_count": null,
      "id": "aa97eaa3-c6e9-453f-9286-a4a402e1660d",
      "metadata": {
       "language": "sql",
       "name": "set_cross_region_call_2"
      },
      "outputs": [],
      "source": [
       "\n",
       "-- 念の為クロスリージョン推論を有効化するため（USリージョン以外の環境用）\n",
       "use role accountadmin;\n",
       "alter account set CORTEX_ENABLED_CROSS_REGION = 'AWS_US';\n"
      ]
     },
     {
      "cell_type": "code",
      "execution_count": null,
      "id": "97573faa-07b3-4489-a0af-b012cafb05b1",
      "metadata": {
       "codeCollapsed": false,
       "language": "sql",
       "name": "confirm_files_3"
      },
      "outputs": [],
      "source": [
       "-- データベースの作成, スキーマの準備\n",
       "use schema snowretail_db.snowretail_schema;\n",
       "\n",
       "-- Stageに入っている、必要なファイルを確認\n",
       "ls @file;"
      ]
     },
     {
      "cell_type": "code",
      "execution_count": null,
      "id": "facd680d-8ddd-4f9c-9ca0-5d7c095b79f0",
      "metadata": {
       "codeCollapsed": false,
       "language": "sql",
       "name": "copy_data_into_tables_4"
      },
      "outputs": [],
      "source": [
       "-- データの投入\n",
       "-- Step1: テーブル作成\n",
       "create or replace TABLE CUSTOMER_REVIEWS (\n",
       "\tREVIEW_ID VARCHAR(16777216),\n",
       "\tPRODUCT_ID VARCHAR(16777216),\n",
       "\tCUSTOMER_ID VARCHAR(16777216),\n",
       "\tRATING NUMBER(38,1),\n",
       "\tREVIEW_TEXT VARCHAR(16777216),\n",
       "\tREVIEW_DATE TIMESTAMP_NTZ(9),\n",
       "\tPURCHASE_CHANNEL VARCHAR(16777216),\n",
       "\tHELPFUL_VOTES NUMBER(38,0)\n",
       ");\n",
       "\n",
       "create or replace TABLE EC_DATA (\n",
       "\tTRANSACTION_ID VARCHAR(16777216),\n",
       "\tTRANSACTION_DATE DATE,\n",
       "\tPRODUCT_ID VARCHAR(16777216),\n",
       "\tPRODUCT_NAME VARCHAR(16777216),\n",
       "\tQUANTITY NUMBER(38,0),\n",
       "\tUNIT_PRICE NUMBER(38,0),\n",
       "\tTOTAL_PRICE NUMBER(38,0)\n",
       ");\n",
       "\n",
       "create or replace TABLE PRODUCT_MASTER (\n",
       "\tPRODUCT_ID VARCHAR(16777216),\n",
       "\tPRODUCT_NAME VARCHAR(16777216),\n",
       "\tUNIT_PRICE NUMBER(38,0)\n",
       ");\n",
       "\n",
       "create or replace TABLE RETAIL_DATA (\n",
       "\tTRANSACTION_ID VARCHAR(16777216),\n",
       "\tTRANSACTION_DATE DATE,\n",
       "\tPRODUCT_ID VARCHAR(16777216),\n",
       "\tPRODUCT_NAME VARCHAR(16777216),\n",
       "\tQUANTITY NUMBER(38,0),\n",
       "\tUNIT_PRICE NUMBER(38,0),\n",
       "\tTOTAL_PRICE NUMBER(38,0)\n",
       ");\n",
       "\n",
       "create or replace TABLE SNOW_RETAIL_DOCUMENTS (\n",
       "\tDOCUMENT_ID VARCHAR(16777216),\n",
       "\tTITLE VARCHAR(16777216),\n",
       "\tCONTENT VARCHAR(16777216),\n",
       "\tDOCUMENT_TYPE VARCHAR(16777216),\n",
       "\tDEPARTMENT VARCHAR(16777216),\n",
       "\tCREATED_AT TIMESTAMP_NTZ(9),\n",
       "\tUPDATED_AT TIMESTAMP_NTZ(9),\n",
       "\tVERSION NUMBER(38,1)\n",
       ");\n",
       "\n",
       "-- Step2: データロード\n",
       "create or replace temp file format temp_ff\n",
       "    type = csv\n",
       "    skip_header = 1\n",
       "; \n",
       "\n",
       "create or replace temp file format temp_ff_2\n",
       "\tTYPE=CSV\n",
       "    SKIP_HEADER=1\n",
       "    FIELD_OPTIONALLY_ENCLOSED_BY='\"'\n",
       "; \n",
       "\n",
       "copy into CUSTOMER_REVIEWS\n",
       "from @FILE\n",
       "file_format = (format_name = temp_ff)\n",
       "files = ('customer_reviews.csv');\n",
       "\n",
       "copy into EC_DATA\n",
       "from @FILE\n",
       "file_format = (format_name = temp_ff)\n",
       "files = ('ec_data.csv');\n",
       "\n",
       "copy into PRODUCT_MASTER\n",
       "from @FILE\n",
       "file_format = (format_name = temp_ff)\n",
       "files = ('product_master.csv');\n",
       "\n",
       "copy into RETAIL_DATA\n",
       "from @FILE\n",
       "file_format = (format_name = temp_ff)\n",
       "files = ('retail_data.csv');\n",
       "\n",
       "copy into SNOW_RETAIL_DOCUMENTS\n",
       "from @FILE\n",
       "file_format = (format_name = temp_ff_2)\n",
       "files = ('snow_retail_documents.csv');"
      ]
     },
     {
      "cell_type": "markdown",
      "id": "3775908f-ca36-4846-8f38-5adca39217f2",
      "metadata": {
       "collapsed": false,
       "name": "md_check_data_5"
      },
      "source": [
       "# 2. データのチェック\n",
       "\n",
       "この章では1章で入れたテーブルデータの中身を確認する"
      ]
     },
     {
      "cell_type": "markdown",
      "id": "d885206b-9301-4b20-a6da-175114f7331e",
      "metadata": {
       "collapsed": false,
       "name": "md_explain_data_details_6"
      },
      "source": [
       "**商品名のパターン**\n",
       "\n",
       "- 商品名には**大文字／小文字変換**、**半角カタカナ変換、全角変換**が施されている\n",
       "- メーカーと商品には**空白の有無**、**ハイフンの除去**、**接尾語の追加**などがされている\n",
       "- 商品名の末尾には **[半額セール]、[期間限定]、[閉店セール]**　などのタグが入っている\n",
       "- 小売やECのデータには**メーカー名がない製品**が存在している"
      ]
     },
     {
      "cell_type": "code",
      "execution_count": null,
      "id": "a16f198a-678f-468b-a2bd-33526d154ba5",
      "metadata": {
       "language": "sql",
       "name": "check_master_data_7"
      },
      "outputs": [],
      "source": [
       "-- 商品マスタの確認\n",
       "\n",
       "select * from product_master;"
      ]
     },
     {
      "cell_type": "code",
      "execution_count": null,
      "id": "8d50cbf4-0c8d-4950-86cb-114990437ac9",
      "metadata": {
       "codeCollapsed": false,
       "language": "sql",
       "name": "check_retail_data_8"
      },
      "outputs": [],
      "source": [
       "-- 店舗データの確認\n",
       "\n",
       "select * from retail_data limit 100;"
      ]
     },
     {
      "cell_type": "code",
      "execution_count": null,
      "id": "d5a03815-5350-4ace-91d3-0bee88e52c46",
      "metadata": {
       "codeCollapsed": false,
       "language": "sql",
       "name": "check_ec_data_9"
      },
      "outputs": [],
      "source": [
       "-- ECデータの確認\n",
       "\n",
       "select * from ec_data limit 100;"
      ]
     },
     {
      "cell_type": "markdown",
      "id": "dde2cb39-5598-4d9b-a1df-3de537c92ee3",
      "metadata": {
       "collapsed": false,
       "name": "md_matching_without_regex_retail_10"
      },
      "source": [
       "何も加工処理せずに、プロダクト名だけで突合しようとしてもできない"
      ]
     },
     {
      "cell_type": "code",
      "execution_count": null,
      "id": "75c3bf97-57f7-4db8-aa24-3e07a6096b87",
      "metadata": {
       "language": "sql",
       "name": "matching_without_regex_retail_11"
      },
      "outputs": [],
      "source": [
       "-- 店舗データと商品マスタを突合\n",
       "\n",
       "select\n",
       "    count(*) as record_cnt\n",
       "from product_master as a\n",
       "inner join retail_data as b\n",
       "on contains(a.product_name,b.product_name) --a.product_nameにb.product_nameが含まれているか\n",
       "limit 100;\n"
      ]
     },
     {
      "cell_type": "code",
      "execution_count": null,
      "id": "3d6db059-d1b1-4daf-87a2-bd308a81338e",
      "metadata": {
       "codeCollapsed": false,
       "language": "sql",
       "name": "matching_without_regex_ec_12"
      },
      "outputs": [],
      "source": [
       "-- ECデータと商品マスタを突合\n",
       "\n",
       "select\n",
       "    count(*) as record_cnt\n",
       "from product_master as a\n",
       "inner join ec_data as b\n",
       "on contains(a.product_name,b.product_name) --a.product_nameにb.product_nameが含まれているか\n",
       "limit 100;"
      ]
     },
     {
      "cell_type": "markdown",
      "id": "40e3664c-0c81-4b76-b9e9-6c70662cddee",
      "metadata": {
       "collapsed": false,
       "name": "md_data_processing_13"
      },
      "source": [
       "## 3. データの加工処理（名寄せ）"
      ]
     },
     {
      "cell_type": "markdown",
      "id": "47997d5b-518c-4bec-b21a-c06d83314b2e",
      "metadata": {
       "collapsed": false,
       "name": "md_eliminate_unnecessary_tags_14"
      },
      "source": [
       "## 不要なタグを削除"
      ]
     },
     {
      "cell_type": "markdown",
      "id": "d314bae5-cb0c-4df3-bd48-9f32fc2f45a3",
      "metadata": {
       "collapsed": false,
       "name": "md_regex_details_15"
      },
      "source": [
       "**処理内容:**\n",
       "\n",
       "1.\t正規表現 r'[\\[\\【\\（\\＜\\［].*?[\\]\\】\\）\\＞\\］]' は、角括弧、全角括弧、その他囲い文字で囲まれた部分を検出して削除する。\n",
       "2.\tさらに「店頭」や「ネット」といった特定の語句も除去し、余分な表記が残らないようにする。\n",
       "3.\t複数の空白文字（スペース、タブ、改行）をすべて取り除く。\n",
       "\n",
       "\n",
       "\n",
       "***皆さんがSQLを書くところです。**<\\*\\*\\*\\>* **のところにSQLを書いてください。**\n",
       "\n",
       "📝正規表現(Regexp_replace)\n"
      ]
     },
     {
      "cell_type": "code",
      "execution_count": null,
      "id": "c695373e-ac74-4b62-a1f1-08206cbd5c81",
      "metadata": {
       "language": "sql",
       "name": "regex_ec_data_16"
      },
      "outputs": [],
      "source": [
       "-- ECデータの商品名を正規化し、正規化後の商品名ごとにレコード数を集計。\n",
       "-- カッコや記号で囲まれた部分や「店舗」「ネット」、空白文字の除去\n",
       "\n",
       "WITH normalized_ec_data AS(\n",
       "    SELECT\n",
       "      PRODUCT_NAME AS ORIGINAL_NAME,\n",
       "      lower(\n",
       "        <***>(\n",
       "          regexp_replace(\n",
       "            regexp_replace(PRODUCT_NAME, '[\\[\\【\\（\\＜\\［].*?[\\]\\】\\）\\＞\\］]', ''),\n",
       "            '(店頭|ネット)',\n",
       "            ''\n",
       "          ),\n",
       "          '\\\\s+',\n",
       "          ''\n",
       "        )\n",
       "      ) AS NORMALIZED_PRODUCT_NAME\n",
       "    FROM ec_data\n",
       ")\n",
       "\n",
       "select \n",
       "    NORMALIZED_PRODUCT_NAME\n",
       "    ,count(*) as record_cnt\n",
       "from normalized_ec_data\n",
       "group by all\n",
       "order by NORMALIZED_PRODUCT_NAME"
      ]
     },
     {
      "cell_type": "markdown",
      "id": "5484752e-2c97-488a-b599-877a90dab1ee",
      "metadata": {
       "collapsed": false,
       "name": "md_full_half_width_17"
      },
      "source": [
       "処理内容\n",
       "- 全角半角文字を統一する\n",
       "\n",
       "***皆さんがSQLを書くところです。**<\\*\\*\\*\\>* **のところにSQLを書いてください。**\n",
       "\n",
       "📝文字操作(collate)\n"
      ]
     },
     {
      "cell_type": "code",
      "execution_count": null,
      "id": "86535bd0-9641-4a32-9795-15a12f6e1bfd",
      "metadata": {
       "language": "sql",
       "name": "collate_ec_data_18"
      },
      "outputs": [],
      "source": [
       "-- ECデータの商品名を正規化し、正規化後の商品名ごとにレコード数を集計。\n",
       "-- 正規化後の商品名を「Unicode大文字・小文字区別なし（case-insensitive）」で比較・集計\n",
       "\n",
       "WITH normalized_ec_data AS(\n",
       "    SELECT\n",
       "      PRODUCT_NAME AS ORIGINAL_NAME,\n",
       "        regexp_replace(\n",
       "          regexp_replace(\n",
       "            regexp_replace(PRODUCT_NAME, '[\\[\\【\\（\\＜\\［].*?[\\]\\】\\）\\＞\\］]', ''),\n",
       "            '(店頭|ネット)',\n",
       "            ''\n",
       "          ),\n",
       "          '\\\\s+',\n",
       "          ''\n",
       "        )\n",
       "      AS NORMALIZED_PRODUCT_NAME\n",
       "    FROM ec_data\n",
       ")\n",
       "\n",
       "select \n",
       "    <***>(NORMALIZED_PRODUCT_NAME, 'unicode-ci') as NORMALIZED_PRODUCT_NAME\n",
       "    ,count(*) as record_cnt\n",
       "from normalized_ec_data\n",
       "group by all\n",
       "order by NORMALIZED_PRODUCT_NAME"
      ]
     },
     {
      "cell_type": "markdown",
      "id": "d1640fa6-c7ae-4cf3-b4cb-6948e0314cde",
      "metadata": {
       "collapsed": false,
       "name": "md_matching_with_regex_19"
      },
      "source": [
       "## 正規表現を適用して突合"
      ]
     },
     {
      "cell_type": "code",
      "execution_count": null,
      "id": "3415db2c-4580-48d4-b6da-118b3451258b",
      "metadata": {
       "language": "sql",
       "name": "matching_with_regex_retail_20"
      },
      "outputs": [],
      "source": [
       "/*\n",
       " 店舗データ（retail_data）と商品マスタ（product_master）を「商品名の正規化」によって突合。\n",
       " 商品名の表記ゆれや不要な情報を除去したうえで、部分一致（contains）かつ大文字小文字を区別しない形でマッチング。\n",
       "*/\n",
       "\n",
       "-- 店舗データに商品名（PRODUCT_NAME）を正規化したカラム（NORMALIZED_PRODUCT_NAME）を追加。\n",
       "WITH normalized_retail_data AS(\n",
       "    SELECT\n",
       "      *,\n",
       "        regexp_replace(\n",
       "          regexp_replace(\n",
       "            regexp_replace(PRODUCT_NAME, '[\\[\\【\\（\\＜\\［].*?[\\]\\】\\）\\＞\\］]', ''),\n",
       "            '(店頭|ネット)',\n",
       "            ''\n",
       "          ),\n",
       "          '\\\\s+',\n",
       "          ''\n",
       "        )\n",
       "      AS NORMALIZED_PRODUCT_NAME\n",
       "    FROM retail_data\n",
       "),\n",
       "\n",
       "-- 正規化済みの店舗データと商品マスタを、正規化後の商品名の部分一致（contains）で突合。\n",
       "normalized_product_master AS(\n",
       "    SELECT\n",
       "      product_id as product_id_master,\n",
       "      PRODUCT_NAME AS ORIGINAL_NAME_master,\n",
       "        regexp_replace(\n",
       "          regexp_replace(\n",
       "            regexp_replace(PRODUCT_NAME, '[\\[\\【\\（\\＜\\［].*?[\\]\\】\\）\\＞\\］]', ''),\n",
       "            '(店頭|ネット)',\n",
       "            ''\n",
       "          ),\n",
       "          '\\\\s+',\n",
       "          ''\n",
       "        )\n",
       "      AS NORMALIZED_PRODUCT_NAME_master\n",
       "    FROM product_master\n",
       "),\n",
       "\n",
       "-- 上記で突合した結果を100件まで表示。\n",
       "retail_joined_master_product AS(\n",
       "    select \n",
       "        b.* exclude(NORMALIZED_PRODUCT_NAME_master),\n",
       "        a.* exclude(product_id, NORMALIZED_PRODUCT_NAME),\n",
       "        case when a.product_id = b.product_id_master then 1 else 0 end correct_flg\n",
       "    from normalized_retail_data as a\n",
       "    left outer join normalized_product_master as b\n",
       "    on contains(collate(b.NORMALIZED_PRODUCT_NAME_master, 'unicode-ci'), collate(a.NORMALIZED_PRODUCT_NAME, 'unicode-ci'))\n",
       ") \n",
       "\n",
       "select\n",
       "    *\n",
       "-- count(*)\n",
       "from retail_joined_master_product\n",
       "-- where product_id_master is not null\n",
       "limit 100;"
      ]
     },
     {
      "cell_type": "code",
      "execution_count": null,
      "id": "bd3a58ea-8812-4ab1-9d49-848c95c6642f",
      "metadata": {
       "codeCollapsed": false,
       "language": "sql",
       "name": "matching_with_regex_ec_21"
      },
      "outputs": [],
      "source": [
       "/*\n",
       "  ECサイトデータと商品マスタを「商品名の正規化」によって突合。\n",
       "  商品名の表記ゆれや不要な情報を除去したうえで、部分一致（contains）かつ大文字小文字を区別しない形でマッチング。\n",
       "*/\n",
       "\n",
       "\n",
       "-- ECデータに商品名（PRODUCT_NAME）を正規化したカラム（NORMALIZED_PRODUCT_NAME）を追加。\n",
       "WITH normalized_ec_data AS(\n",
       "    SELECT\n",
       "      *,\n",
       "        regexp_replace(\n",
       "          regexp_replace(\n",
       "            regexp_replace(PRODUCT_NAME, '[\\[\\【\\（\\＜\\［].*?[\\]\\】\\）\\＞\\］]', ''),\n",
       "            '(店頭|ネット)',\n",
       "            ''\n",
       "          ),\n",
       "          '\\\\s+',\n",
       "          ''\n",
       "        )\n",
       "     AS NORMALIZED_PRODUCT_NAME\n",
       "    FROM ec_data\n",
       "),\n",
       "\n",
       "-- 正規化済みのECデータと商品マスタを、正規化後の商品名の部分一致（contains）で突合。\n",
       "normalized_product_master AS(\n",
       "    SELECT\n",
       "      product_id as product_id_master,\n",
       "      PRODUCT_NAME AS ORIGINAL_NAME_master,\n",
       "        regexp_replace(\n",
       "          regexp_replace(\n",
       "            regexp_replace(PRODUCT_NAME, '[\\[\\【\\（\\＜\\［].*?[\\]\\】\\）\\＞\\］]', ''),\n",
       "            '(店頭|ネット)',\n",
       "            ''\n",
       "          ),\n",
       "          '\\\\s+',\n",
       "          ''\n",
       "        )\n",
       "     AS NORMALIZED_PRODUCT_NAME_master\n",
       "    FROM product_master\n",
       "),\n",
       "\n",
       "-- 上記で突合した結果を100件まで表示。\n",
       "ec_joined_master_product AS(\n",
       "    select \n",
       "        b.* exclude(NORMALIZED_PRODUCT_NAME_master),\n",
       "        a.* exclude(product_id, NORMALIZED_PRODUCT_NAME),\n",
       "        case when a.product_id = b.product_id_master then 1 else 0 end correct_flg\n",
       "    from normalized_ec_data as a\n",
       "    left outer join normalized_product_master as b\n",
       "    on contains(collate(b.NORMALIZED_PRODUCT_NAME_master, 'unicode-ci'), collate(a.NORMALIZED_PRODUCT_NAME, 'unicode-ci'))\n",
       ") \n",
       "\n",
       "select\n",
       "    *\n",
       "-- count(*)\n",
       "from ec_joined_master_product\n",
       "-- where product_id_master is not null\n",
       "limit 100;"
      ]
     },
     {
      "cell_type": "markdown",
      "id": "6e0c02ff-14f1-4b67-8e93-3355a4d3334c",
      "metadata": {
       "collapsed": false,
       "name": "md_vector_search_22"
      },
      "source": [
       "## 3. ベクトル検索の利用\n",
       "\n",
       "この章では商品名をベクトル化した後に、類似度計算からマスターデータと購買履歴のデータを突合する\n",
       "\n",
       "\n",
       "📝ルールベースの辛いところ\n",
       "\n",
       "📝Embedding(エンベディング）"
      ]
     },
     {
      "cell_type": "markdown",
      "id": "487c7cab-cf35-4bba-ae7c-762733c2f8bf",
      "metadata": {
       "collapsed": false,
       "name": "md_embedding_data_23"
      },
      "source": [
       "### 小売、ECの商品名に対してEmbeddingを適用し、ベクトル化を実施\n",
       "***皆さんがSQLを書くところです。**<\\*\\*\\*\\>* **のところにSQLを書いてください。**\n",
       "\n",
       "📝Cortex Embedding関数"
      ]
     },
     {
      "cell_type": "code",
      "execution_count": null,
      "id": "7c0b9715-d293-4ea8-8034-f3109550e655",
      "metadata": {
       "language": "sql",
       "name": "embedding_product_master_24"
      },
      "outputs": [],
      "source": [
       "-- 商品マスターの各商品名に対してベクトルを生成し、結果を新しいテーブルに保存\n",
       "create or replace table product_master_embed as \n",
       "select \n",
       "    *, \n",
       "    snowflake.cortex.<***>('multilingual-e5-large', product_name) as product_name_embed \n",
       "from product_master;"
      ]
     },
     {
      "cell_type": "code",
      "execution_count": null,
      "id": "4ae7c99f-4338-43c9-892a-55e87cff977c",
      "metadata": {
       "codeCollapsed": false,
       "language": "sql",
       "name": "embedding_retail_data_25"
      },
      "outputs": [],
      "source": [
       "-- 店舗データの各商品名に対してベクトルを生成し、結果を新しいテーブルに保存\n",
       "create or replace table retail_data_embed as \n",
       "select \n",
       "    *, \n",
       "    snowflake.cortex.embed_text_1024('multilingual-e5-large', product_name) as product_name_embed \n",
       "from retail_data;"
      ]
     },
     {
      "cell_type": "code",
      "execution_count": null,
      "id": "c1741771-c4d9-4659-9566-323623bd8458",
      "metadata": {
       "codeCollapsed": true,
       "collapsed": true,
       "language": "sql",
       "name": "embedding_ec_data_26"
      },
      "outputs": [],
      "source": [
       "-- 25と同じなので、ここはスキップしてください\n",
       "/*\n",
       "-- EC DATA\n",
       "create or replace table ec_data_embed as \n",
       "select \n",
       "    *, \n",
       "    snowflake.cortex.embed_text_1024('multilingual-e5-large', product_name) as product_name_embed \n",
       "from ec_data;\n",
       "*/"
      ]
     },
     {
      "cell_type": "code",
      "execution_count": null,
      "id": "187f4599-865d-4dcf-ac03-33b2040fc032",
      "metadata": {
       "codeCollapsed": false,
       "language": "sql",
       "name": "check_embed_retail_data_27"
      },
      "outputs": [],
      "source": [
       "-- 店舗データの商品名をベクトル化した結果を確認\n",
       "select * from retail_data_embed limit 10;"
      ]
     },
     {
      "cell_type": "markdown",
      "id": "81864970-aee8-435b-a9b6-61f8bfa89b86",
      "metadata": {
       "collapsed": false,
       "name": "cell1"
      },
      "source": [
       "📝ファジーマッチング\n",
       "\n",
       "vector_cosine_similarityは、2つのベクトル間のコサイン類似度を計算する関数（ベクトル間の「向きの近さ」を数値化）"
      ]
     },
     {
      "cell_type": "code",
      "execution_count": null,
      "id": "20f24a01-e650-4c6d-b3fa-01e2156ffd98",
      "metadata": {
       "codeCollapsed": false,
       "language": "sql",
       "name": "check_matched_retail_table_28"
      },
      "outputs": [],
      "source": [
       "-- 商品マスタと店舗データの間で、商品名のベクトル（product_name_embed）を用いてコサイン類似度が0.9以上のペアを抽出\n",
       "\n",
       "with match_retail_product_master as (\n",
       "    select \n",
       "        a.* exclude(product_name_embed)\n",
       "        ,b.* exclude(product_id, product_name_embed)\n",
       "        ,vector_cosine_similarity(a.product_name_embed, b.product_name_embed) as similarity\n",
       "        ,case when a.product_id = b.product_id then 1 else 0 end correct_flg\n",
       "    from product_master_embed a, retail_data_embed b\n",
       "    where vector_cosine_similarity(a.product_name_embed, b.product_name_embed) > 0.9\n",
       ")\n",
       "\n",
       "select * from match_retail_product_master limit 100;"
      ]
     },
     {
      "cell_type": "code",
      "execution_count": null,
      "id": "2788a41e-ba64-4f79-9dcf-368339de91a1",
      "metadata": {
       "codeCollapsed": true,
       "collapsed": true,
       "language": "sql",
       "name": "check_matched_ec_table_29"
      },
      "outputs": [],
      "source": [
       "-- 28と同じなので、ここはスキップしてください\n",
       "/*\n",
       "-- 商品マスタとECデータの間で、商品名のベクトル（product_name_embed）を用いてコサイン類似度が0.9以上のペアを抽出\n",
       "with match_ec_product_master as (\n",
       "    select \n",
       "        a.* exclude(product_name_embed)\n",
       "        ,b.* exclude(product_id, product_name_embed)\n",
       "        ,vector_cosine_similarity(a.product_name_embed, b.product_name_embed) as similarity\n",
       "        ,case when a.product_id = b.product_id then 1 else 0 end correct_flg\n",
       "    from product_master_embed a, ec_data_embed b\n",
       "    where vector_cosine_similarity(a.product_name_embed, b.product_name_embed) > 0.9\n",
       ")\n",
       "\n",
       "select count(distinct transaction_id) from match_ec_product_master limit 1000;\n",
       "*/"
      ]
     },
     {
      "cell_type": "markdown",
      "id": "8a0babf9-1ce2-41df-a817-e4ef9f40fb27",
      "metadata": {
       "collapsed": false,
       "name": "md_improve_performance_by_regex_30"
      },
      "source": [
       "### ベクトル検索精度を向上\n",
       "\n",
       "Embeddingを適用する前に生データから不要なデータを抽出するだけでも精度を向上させることができる\n",
       "\n",
       "📝とはいえ、加工・整形は結合精度を高めるために重要\n"
      ]
     },
     {
      "cell_type": "code",
      "execution_count": null,
      "id": "88760879-721b-4371-b1df-d973b5cbe8d0",
      "metadata": {
       "codeCollapsed": false,
       "language": "sql",
       "name": "embedding_nomalized_ec_data_31"
      },
      "outputs": [],
      "source": [
       "-- ECデータの商品名を正規化し、正規化済み商品名に対してベクトルを生成し、新しいテーブルnormalized_ec_data_embedとして保存\n",
       "\n",
       "create or replace table normalized_ec_data_embed as \n",
       "with normalized_ec_data as(\n",
       "    SELECT\n",
       "      *,\n",
       "      upper(\n",
       "        regexp_replace(\n",
       "          regexp_replace(\n",
       "            regexp_replace(PRODUCT_NAME, '[\\[\\【\\（\\＜\\［].*?[\\]\\】\\）\\＞\\］]', ''),\n",
       "            '(店頭|ネット)',\n",
       "            ''\n",
       "          ),\n",
       "          '\\\\s+',\n",
       "          ''\n",
       "        )\n",
       "      ) AS normalized_product_name\n",
       "    FROM ec_data\n",
       ")\n",
       "\n",
       "select \n",
       "    *, \n",
       "    snowflake.cortex.embed_text_1024('multilingual-e5-large', collate(normalized_product_name, 'unicode-ci')) as normalized_product_name_embed \n",
       "from normalized_ec_data;"
      ]
     },
     {
      "cell_type": "code",
      "execution_count": null,
      "id": "6ba26275-c8cd-4f0c-a217-70018e65604e",
      "metadata": {
       "language": "sql",
       "name": "embedding_nomalized_retail_data_32"
      },
      "outputs": [],
      "source": [
       "-- 店舗データの商品名を正規化し、正規化済み商品名に対してベクトルを生成し、新しいテーブルnormalized_retail_data_embedとして保存\n",
       "\n",
       "create or replace table normalized_retail_data_embed as \n",
       "with normalized_retail_data as(\n",
       "    SELECT\n",
       "      *,\n",
       "      upper(\n",
       "        regexp_replace(\n",
       "          regexp_replace(\n",
       "            regexp_replace(PRODUCT_NAME, '[\\[\\【\\（\\＜\\［].*?[\\]\\】\\）\\＞\\］]', ''),\n",
       "            '(店頭|ネット)',\n",
       "            ''\n",
       "          ),\n",
       "          '\\\\s+',\n",
       "          ''\n",
       "        )\n",
       "      ) AS normalized_product_name\n",
       "    FROM retail_data\n",
       ")\n",
       "\n",
       "select \n",
       "    *, \n",
       "    snowflake.cortex.embed_text_1024('multilingual-e5-large', collate(normalized_product_name, 'unicode-ci')) as normalized_product_name_embed \n",
       "from normalized_retail_data;"
      ]
     },
     {
      "cell_type": "code",
      "execution_count": null,
      "id": "63d727cb-da08-45cf-a9c6-bcc8191e0b55",
      "metadata": {
       "codeCollapsed": false,
       "language": "sql",
       "name": "check_matched_nomalized_ec_table_33"
      },
      "outputs": [],
      "source": [
       "-- ベクトル化された商品名同士のコサイン類似度を用いて、ECデータと商品マスタの間で「意味的に類似した商品名」がどれだけ紐づくかを調べる。\n",
       "-- コサイン類似度が0.9以上という高い閾値でマッチしたレコードの件数を集計\n",
       "\n",
       "\n",
       "with match_ec_product_master as (\n",
       "    select \n",
       "        a.* exclude(product_name_embed)\n",
       "        ,b.* exclude(product_id, normalized_product_name_embed)\n",
       "        ,vector_cosine_similarity(a.product_name_embed, b.normalized_product_name_embed) as similarity\n",
       "        ,case when a.product_id = b.product_id then 1 else 0 end correct_flg\n",
       "    from product_master_embed a, normalized_ec_data_embed b\n",
       "    where vector_cosine_similarity(product_name_embed, normalized_product_name_embed) > 0.9 \n",
       "\n",
       ")\n",
       "\n",
       "-- select * from match_ec_product_master limit 1000;\n",
       "select count(distinct transaction_id) from match_ec_product_master limit 1000;"
      ]
     },
     {
      "cell_type": "markdown",
      "id": "f1a72e4b-2799-42a5-966b-008bd13e53f4",
      "metadata": {
       "collapsed": false,
       "name": "md_improve_embedding_performance_34"
      },
      "source": [
       "- データをクレンジングすることでも精度向上が見込める\n",
       "- Embedding用モデル自体を変更することでも精度向上が見込める。Snowflakeではvoyageやsnowflake arcticなどがある。\n"
      ]
     },
     {
      "cell_type": "code",
      "execution_count": null,
      "id": "c867f943-067a-4f5a-a9c9-72fbc0e8f050",
      "metadata": {
       "codeCollapsed": false,
       "language": "sql",
       "name": "check_unmatched_records_35"
      },
      "outputs": [],
      "source": [
       "-- ベクトル化による商品名マッチングにおいて「コサイン類似度が0.9未満にもかかわらず、商品IDは一致しているデータを抽出（AIによる意味的な類似度判定と実際のマスタIDによる正解の間にギャップがあるケース）\n",
       "\n",
       "with match_ec_product_master as (\n",
       "    select \n",
       "        a.* exclude(product_name_embed)\n",
       "        ,b.* exclude(product_id, normalized_product_name_embed)\n",
       "        ,vector_cosine_similarity(a.product_name_embed, b.normalized_product_name_embed) as similarity\n",
       "        ,case when a.product_id = b.product_id then 1 else 0 end correct_flg\n",
       "    from product_master_embed a, normalized_ec_data_embed b\n",
       "    where vector_cosine_similarity(product_name_embed, normalized_product_name_embed) < 0.9 \n",
       "\n",
       ")\n",
       "\n",
       "select \n",
       "    *\n",
       "from match_ec_product_master \n",
       "where correct_flg = 1\n",
       "limit 100;"
      ]
     },
     {
      "cell_type": "markdown",
      "id": "a212cf5f-6cea-4914-94ae-616993109f7c",
      "metadata": {
       "collapsed": false,
       "name": "md_perfoming_cortex_llm_36"
      },
      "source": [
       "## 4. Cortex LLMの活用方法\n",
       "\n",
       "ベクトル検索で紐づかないデータに対して、LLMを活用していく"
      ]
     },
     {
      "cell_type": "markdown",
      "id": "c1c89f54-1cdc-481d-a977-84ab6157afe9",
      "metadata": {
       "collapsed": false,
       "name": "md_divide_by_llm_37"
      },
      "source": [
       "## LLMでメーカーと商品名を分離\n",
       "\n",
       "ここでは、Snowflake Cortexの関数の一つである**Complete**関数を利用し、Anthropic社の**Claude3.5**モデルでメーカーと商品名を分離する。また、出力形式を統一するために、**Cortex Complete Structure Output**の機能を利用し、JSON形式で結果を出力させる。\n",
       "\n",
       "📝Cortex Complete関数\n",
       "\n",
       "***皆さんがSQLを書くところです。**<\\*\\*\\*\\>* **のところにSQLを書いてください。**\n"
      ]
     },
     {
      "cell_type": "code",
      "execution_count": null,
      "id": "25b3404d-0891-4e08-967a-e46e3a99c756",
      "metadata": {
       "language": "sql",
       "name": "apply_llm_to_product_master_38"
      },
      "outputs": [],
      "source": [
       "/*\n",
       " Cortex LLMを活用し、商品マスターテーブルの商品名列から「メーカー名」と「商品名」を自動で分離・抽出し、その結果を新しいテーブルproduct_master_applied_llmとして保存する\n",
       "- COMPLETE関数を使うことでプロンプトに応じた柔軟なテキスト生成や情報抽出が可能\n",
       "- response_formatでスキーマを指定することで、LLMの出力をJSON形式で受け取り、SQLで簡単にパース・利用できる\n",
       "*/\n",
       "\n",
       "create or replace table product_master_applied_llm as\n",
       "with normalized_product_master as(\n",
       "    select\n",
       "        *,\n",
       "        snowflake.cortex.<***>('claude-3-5-sonnet', [\n",
       "            {\n",
       "                'role': 'user',\n",
       "                'content': concat('入力値からメーカーと商品名を分離してください。なお、必ずしもメーカー名があるわけではなく、メーカー名がない場合は空欄で返してください。入力値は',product_name,'です')\n",
       "            }\n",
       "            ],\n",
       "            {\n",
       "            'temperature': 0.7, -- LLMにおける出力ランダム性（0が決定的/予測可能・一貫性重視、1が多様で創造的)\n",
       "            'max_tokens': 8000,\n",
       "            'response_format': {\n",
       "                'type': 'json',\n",
       "                'schema': {\n",
       "                    'type': 'object',\n",
       "                    'properties': {\n",
       "                        'sub_maker_name': {\n",
       "                            'type': 'string',\n",
       "                            'description': 'メーカーの名前'\n",
       "                        },\n",
       "                        'sub_product_name': {\n",
       "                            'type': 'string',\n",
       "                            'description': '商品の名前'\n",
       "                        }\n",
       "                    }\n",
       "                }\n",
       "            }\n",
       "        }) as result_json\n",
       "    from product_master\n",
       "),\n",
       "\n",
       "normalized_product_master_2 as (\n",
       "    select \n",
       "        *,\n",
       "        result_json:structured_output[0].raw_message.sub_maker_name::varchar as sub_maker_name,\n",
       "        result_json:structured_output[0].raw_message.sub_product_name::varchar as sub_product_name\n",
       "    from normalized_product_master\n",
       ")\n",
       "\n",
       "select \n",
       "    *\n",
       "from normalized_product_master_2;"
      ]
     },
     {
      "cell_type": "code",
      "execution_count": null,
      "id": "e8e0389c-019d-49f0-9dac-083f814821db",
      "metadata": {
       "codeCollapsed": false,
       "language": "sql",
       "name": "check_product_master_llm_39"
      },
      "outputs": [],
      "source": [
       "-- 商品マスターテーブルの商品名列から「メーカー名」と「商品名」を自動で分離・抽出できたか確認\n",
       "select * from product_master_applied_llm limit 100"
      ]
     },
     {
      "cell_type": "code",
      "execution_count": null,
      "id": "5b712777-1efd-4672-aa5a-8dda55387e46",
      "metadata": {
       "language": "sql",
       "name": "embedding_product_master_llm_40"
      },
      "outputs": [],
      "source": [
       "-- LLMで分離・抽出した商品名（sub_product_name）をベクトル化し、ベクトルを新しいテーブルに保存\n",
       "create or replace table product_master_llm_embed as \n",
       "select \n",
       "    *, \n",
       "    snowflake.cortex.embed_text_1024('multilingual-e5-large', sub_product_name) as product_name_embed \n",
       "from product_master_applied_llm;"
      ]
     },
     {
      "cell_type": "code",
      "execution_count": null,
      "id": "07e03474-9dd3-4b18-81b2-733a2b328c7f",
      "metadata": {
       "language": "sql",
       "name": "recalculate_similarities_after_llm_applied_41"
      },
      "outputs": [],
      "source": [
       "/*\n",
       " 「商品マスタとECデータ間の商品名ベクトルのコサイン類似度が低かった（0.9未満）にもかかわらず、実際にはproduct_idが一致していた（正解ペア）」について、LLMで再分離、ベクトル化したものを用いて再度コサイン類似度を計算し、AIによるベクトル化の改善効果を検証\n",
       "*/\n",
       "\n",
       "\n",
       "-- 商品マスタとECデータ（normalized_ec_data_embed）の全組み合わせでベクトル類似度0.9以下を抽出\n",
       "with match_ec_product_master as (\n",
       "    select \n",
       "        a.*  exclude(product_name_embed)\n",
       "        ,b.* exclude(product_id)\n",
       "        ,case when a.product_id = b.product_id then 1 else 0 end correct_flg\n",
       "        ,vector_cosine_similarity(a.product_name_embed, b.normalized_product_name_embed) as similarity_before\n",
       "    from product_master_embed a, normalized_ec_data_embed b\n",
       "    where vector_cosine_similarity(product_name_embed, normalized_product_name_embed) < 0.9 \n",
       "\n",
       "), \n",
       "\n",
       "-- product_idが一致しているがベクトル類似度が低かったペアのみを抽出。\n",
       "match_ec_product_master_2 as (\n",
       "    select \n",
       "        *\n",
       "    from match_ec_product_master \n",
       "    where correct_flg = 1\n",
       "),\n",
       "\n",
       "-- 新たに作成したベクトルを使い再度コサイン類似度を計算し、コサイン類似度が0.9超のみ抽出。\n",
       "match_ec_product_master_3 as (\n",
       "    select \n",
       "        a.* exclude(product_name_embed)\n",
       "        ,b.* exclude(product_id, normalized_product_name_embed)\n",
       "        ,vector_cosine_similarity(a.product_name_embed, b.normalized_product_name_embed) as similarity_after\n",
       "    from product_master_llm_embed a, match_ec_product_master_2 b\n",
       "    where vector_cosine_similarity(product_name_embed, normalized_product_name_embed) > 0.9 \n",
       "\n",
       ")\n",
       "\n",
       "-- 以前はベクトル類似度が低くマッチしなかったが、新しいベクトル化で高類似度となった正解ペアを一覧表示。\n",
       "select * from match_ec_product_master_3;"
      ]
     },
     {
      "cell_type": "markdown",
      "id": "4139720b-90bd-4427-a6d1-a50af05cc5fe",
      "metadata": {
       "collapsed": false,
       "name": "md_conclusion_llm_for_data_processing_42"
      },
      "source": [
       "## データ加工におけるLLMの利用シーン\n",
       "\n",
       "今回のように正規表現では手間のかかる処理をLLMに実行させるというのは非常にわかりやすい例である。\n",
       "また他のユースケースとしては\n",
       "- データ分類やメタデータの付与（例. 家電、テレビ、衣類など抽象列を作成する）\n",
       "- 欠損値の補完\n",
       "- 表記揺れの統一（住所などの異なるフォーマットの統一）\n",
       "\n",
       "などLLMを利用することで、従来では難しかった処理を容易に解決できるかもしれない\n",
       "\n",
       "📝LLMの利用シーン\n",
       "\n",
       "📝フォーマット統一\n"
      ]
     },
     {
      "cell_type": "markdown",
      "id": "d6de8e52-fdcb-4d15-bf25-104349438f3c",
      "metadata": {
       "collapsed": false,
       "name": "md_llm_as_a_judgement_43"
      },
      "source": [
       "## LLM as a Judgement\n",
       "\n",
       "LLMの別の使い方として、従来は人間がやっていた出力結果に対する確認処理を、LLMに代行させるというLLM as a Judgementにも活用することができる。今回の例では相対的にコサイン類度が低い結果に対してLLMに判定させる処理を実施する\n",
       "\n",
       "📝評価(LLM as a Judge)"
      ]
     },
     {
      "cell_type": "code",
      "execution_count": null,
      "id": "7b94b00e-ac06-4aa6-a3b1-aa8ab37f4142",
      "metadata": {
       "language": "sql",
       "name": "llm_judge_ec_data_with_product_master_44"
      },
      "outputs": [],
      "source": [
       "/*\n",
       "「ベクトル類似度が低かったが、実際には同一商品であるペア」について、LLMを“審査員”として起用し、商品名ペアが同一商品かどうかを“人間的な観点”で再評価させる\n",
       "*/\n",
       "\n",
       "-- ベクトル類似度による初期マッチング(商品マスタとECデータの全組み合わせから、ベクトル類似度が0.9未満のペア抽出)\n",
       "with match_ec_product_master as (\n",
       "    select \n",
       "        a.product_id\n",
       "        ,a.product_name as product_name_master\n",
       "        ,b.* exclude(product_id)\n",
       "        ,case when a.product_id = b.product_id then 1 else 0 end correct_flg\n",
       "        ,vector_cosine_similarity(a.product_name_embed, b.normalized_product_name_embed) as similarity_before\n",
       "    from product_master_embed a, normalized_ec_data_embed b\n",
       "    where vector_cosine_similarity(product_name_embed, normalized_product_name_embed) < 0.9 \n",
       "\n",
       "), \n",
       "\n",
       "--精度が低い正解ペア（product_id一致）のみ抽出\n",
       "match_ec_product_master_2 as (\n",
       "    select \n",
       "        *\n",
       "    from match_ec_product_master \n",
       "    where correct_flg = 1\n",
       "    limit 20\n",
       "),\n",
       "\n",
       "-- LLM as a Judgeによる再評価\n",
       "-- ここでLLMは「評価者」として、与えられた情報とルールに基づき、人間的な観点でスコアと理由を返す\n",
       "match_ec_product_master_3 as (\n",
       "    select\n",
       "        *,\n",
       "        snowflake.cortex.complete('claude-3-5-sonnet', [\n",
       "            {\n",
       "                'role': 'user',\n",
       "                'content': concat('あなたは、二つの異なる名前の商品が入力された情報を元に同じかどうかを判定するスペシャリストです。\n",
       "                次のルールに従って結果を出力してください。\n",
       "                1. 類似度のスコアを0から1でNumericな値で返すこと。 0が異なる製品で、1が同一製品を指す。\n",
       "                2. その選択した理由も返してください。\n",
       "                比較して欲しい情報は',product_name_master,'と', product_name, 'です')\n",
       "            }\n",
       "            ],\n",
       "            {\n",
       "            'temperature': 0.7,\n",
       "            'max_tokens': 8000,\n",
       "            'response_format': {\n",
       "                'type': 'json',\n",
       "                'schema': {\n",
       "                    'type': 'object',\n",
       "                    'properties': {\n",
       "                        'score': {\n",
       "                            'type': 'number',\n",
       "                            'description': 'メーカーの名前'\n",
       "                        },\n",
       "                        'reason': {\n",
       "                            'type': 'string',\n",
       "                            'description': 'スコアの理由'\n",
       "                        }\n",
       "                    }\n",
       "                }\n",
       "            }\n",
       "        }) as result_json\n",
       "    from match_ec_product_master_2\n",
       "), \n",
       "\n",
       "-- LLMの評価結果を抽出(LLMの出力（score, reason）をSQLカラムとして抽出)\n",
       "match_ec_product_master_4 as (\n",
       "    select \n",
       "        *,\n",
       "        result_json:structured_output[0].raw_message.score::float as llm_score,\n",
       "        result_json:structured_output[0].raw_message.reason::varchar as llm_reason\n",
       "    from match_ec_product_master_3\n",
       ")\n",
       "\n",
       "-- ベクトル類似度が低かったが、LLM as a Judgeによる再評価でどのようなスコア・理由が返されたかを一覧表示\n",
       "select \n",
       "    *\n",
       "from match_ec_product_master_4;"
      ]
     },
     {
      "cell_type": "markdown",
      "id": "5c53bf85-bd98-425f-ba6f-1a23c75de243",
      "metadata": {
       "collapsed": false,
       "name": "cell2"
      },
      "source": [
       "📝非構造化データの構造化\n",
       "\n",
       "📝分類・メタデータ付与\n"
      ]
     },
     {
      "cell_type": "markdown",
      "id": "f112a7bc-8b19-430e-b212-e31a0bb10dc8",
      "metadata": {
       "collapsed": false,
       "name": "md_output_combined_tables_45"
      },
      "source": [
       "## 5.最終結果の作成"
      ]
     },
     {
      "cell_type": "code",
      "execution_count": null,
      "id": "ded6d9ec-cb56-44ea-8c0f-89ff7ba34b8b",
      "metadata": {
       "language": "sql",
       "name": "combined_ec_and_product_data_46"
      },
      "outputs": [],
      "source": [
       "/*\n",
       "ECデータ（normalized_ec_data_embed）と商品マスタ（product_master_embed, product_master_llm_embed）をベクトル類似度でマッチングし、最も高い類似度（0.9超）を持つペアのみを抽出した新テーブル（ec_data_with_product_master）を作成\n",
       "*/\n",
       "\n",
       "create or replace table ec_data_with_product_master as \n",
       "\n",
       "    with combined_product_master as (\n",
       "        select a.*, b.product_name_embed as product_name_llm_embed from product_master_embed as a\n",
       "        inner join product_master_llm_embed as b\n",
       "        on a.product_id = b.product_id\n",
       "    ),\n",
       "    \n",
       "    match_ec_product_master as (\n",
       "        select \n",
       "            a.product_id as product_id_master\n",
       "            ,a.product_name as product_name_master\n",
       "            ,a.unit_price as unit_price_master \n",
       "            ,b.* exclude(product_id, normalized_product_name, normalized_product_name_embed)\n",
       "            ,vector_cosine_similarity(a.product_name_embed, b.normalized_product_name_embed) as similarity_before\n",
       "            ,vector_cosine_similarity(a.product_name_llm_embed, b.normalized_product_name_embed) as similarity_after\n",
       "            ,greatest(similarity_before, similarity_after) as similarity -- beforeとafterを比較して高い方の値を出す\n",
       "            ,case when a.product_id = b.product_id then 1 else 0 end correct_flg\n",
       "        from combined_product_master a, normalized_ec_data_embed b\n",
       "    \n",
       "    ), \n",
       "    \n",
       "    match_ec_product_master_2 as (\n",
       "        select \n",
       "            * exclude(similarity_before, similarity_after, correct_flg)\n",
       "        from match_ec_product_master \n",
       "        where similarity > 0.9\n",
       "    )\n",
       "    \n",
       "    \n",
       "    select * from match_ec_product_master_2\n"
      ]
     },
     {
      "cell_type": "code",
      "execution_count": null,
      "id": "56921bd9-bea8-41bd-938f-5d63faa1dbb7",
      "metadata": {
       "codeCollapsed": false,
       "language": "sql",
       "name": "combined_retail_and_product_data_47"
      },
      "outputs": [],
      "source": [
       "/*\n",
       "retail_data（normalized_retail_data_embed）と商品マスタ（product_master_embed, product_master_llm_embed）をベクトル類似度でマッチングし、最も高い類似度（0.9超）を持つペアのみを抽出した新テーブル（retail_data_with_product_master）を作成\n",
       "*/\n",
       "create or replace table retail_data_with_product_master as \n",
       "\n",
       "    with combined_product_master as (\n",
       "        select a.*, b.product_name_embed as product_name_llm_embed from product_master_embed as a\n",
       "        inner join product_master_llm_embed as b\n",
       "        on a.product_id = b.product_id\n",
       "    ),\n",
       "    \n",
       "    match_retail_product_master as (\n",
       "        select \n",
       "            a.product_id as product_id_master\n",
       "            ,a.product_name as product_name_master\n",
       "            ,a.unit_price as unit_price_master \n",
       "            ,b.* exclude(product_id, normalized_product_name, normalized_product_name_embed)\n",
       "            ,vector_cosine_similarity(a.product_name_embed, b.normalized_product_name_embed) as similarity_before\n",
       "            ,vector_cosine_similarity(a.product_name_llm_embed, b.normalized_product_name_embed) as similarity_after\n",
       "            ,greatest(similarity_before, similarity_after) as similarity -- beforeとafterを比較して高い方の値を出す\n",
       "            ,case when a.product_id = b.product_id then 1 else 0 end correct_flg\n",
       "        from combined_product_master a, normalized_retail_data_embed b\n",
       "    \n",
       "    ), \n",
       "    \n",
       "    match_retail_product_master_2 as (\n",
       "        select \n",
       "            * exclude(similarity_before, similarity_after, correct_flg)\n",
       "        from match_retail_product_master \n",
       "        where similarity > 0.9\n",
       "    )\n",
       "    \n",
       "    \n",
       "    select * from match_retail_product_master_2\n"
      ]
     },
     {
      "cell_type": "code",
      "execution_count": null,
      "id": "65395baa-6130-4610-9b00-b96705170338",
      "metadata": {
       "codeCollapsed": false,
       "language": "sql",
       "name": "check_final_table_48"
      },
      "outputs": [],
      "source": [
       "select * from retail_data_with_product_master limit 100;"
      ]
     },
     {
      "cell_type": "markdown",
      "id": "c247c1e0-50a4-4f96-876f-9358fe048317",
      "metadata": {
       "collapsed": true,
       "name": "md_optinal_build_cortex_search_49"
      },
      "source": [
       "## (オプショナル） Cortex Searchの利用\n",
       "\n",
       "上記の一連処理を容易にアプリケーション化することが可能なサービスである"
      ]
     },
     {
      "cell_type": "code",
      "execution_count": null,
      "id": "fa66cd33-3338-47a3-af8e-306504335ccf",
      "metadata": {
       "codeCollapsed": true,
       "collapsed": true,
       "language": "sql",
       "name": "setup_cortex_search_table_50"
      },
      "outputs": [],
      "source": [
       "-- ウェアハウスの作成\n",
       "create or replace warehouse cortex_search_wh with WAREHOUSE_SIZE='X-SMALL';\n",
       "\n",
       "-- パラメータをオン\n",
       "alter table product_master set change_tracking = true;\n",
       "\n",
       "-- Cortex Search オブジェクトを作成する\n",
       "create or replace cortex search service product_master_service\n",
       "  on product_name\n",
       "  attributes product_name\n",
       "  warehouse = cortex_search_wh\n",
       "  target_lag = '1 day'\n",
       "  embedding_model = 'voyage-multilingual-2'\n",
       "  as (\n",
       "    select * from product_master\n",
       "  );\n",
       "  "
      ]
     },
     {
      "cell_type": "code",
      "execution_count": null,
      "id": "f2fc0b9d-13f8-40b9-89a0-f04a2da355e5",
      "metadata": {
       "codeCollapsed": true,
       "collapsed": true,
       "language": "sql",
       "name": "check_cortex_search_services_51"
      },
      "outputs": [],
      "source": [
       "-- 作成したCortex Search Serviceを確認する\n",
       "SELECT\n",
       "  *\n",
       "FROM\n",
       "  TABLE (\n",
       "    cortex_search_data_scan(\n",
       "      SERVICE_NAME => 'product_master_service'\n",
       "    )\n",
       "  );"
      ]
     },
     {
      "cell_type": "code",
      "execution_count": null,
      "id": "22b86ff8-a082-419f-8f7f-14475726e19e",
      "metadata": {
       "codeCollapsed": true,
       "collapsed": true,
       "language": "sql",
       "name": "sql_preview_created_service_52"
      },
      "outputs": [],
      "source": [
       "-- SQLを用いて、SEARCH_PREVIEWを利用し、任意のクエリを投げてみる\n",
       "SELECT\n",
       "  snowflake.cortex.search_preview (\n",
       "      'product_master_service',\n",
       "      '{\n",
       "          \"query\": \"一番搾りビール\",\n",
       "          \"columns\": [\"product_name\"],\n",
       "          \"limit\": 2\n",
       "      }'\n",
       "  );"
      ]
     },
     {
      "cell_type": "code",
      "execution_count": null,
      "id": "4f06b599-16ae-4e2a-911b-843c612e8875",
      "metadata": {
       "codeCollapsed": true,
       "collapsed": true,
       "language": "python",
       "name": "python_preview_created_service_53"
      },
      "outputs": [],
      "source": [
       "# Pythonを用いて、Cortex Search Serviceにアクセスする。\n",
       "# なお、実行する前に右上のパッケージで[snowflake, snowflake-ml-python, snowflake-snowpark-python]をインポートする\n",
       "from snowflake.core import Root\n",
       "from snowflake.snowpark import Session\n",
       "from snowflake.snowpark.context import get_active_session\n",
       "import json\n",
       "\n",
       "session = get_active_session()\n",
       "root = Root(session)\n",
       "\n",
       "product_master_search_service = (root\n",
       "  .databases[\"snowretail_db\"]\n",
       "  .schemas[\"snowretail_schema\"]\n",
       "  .cortex_search_services[\"product_master_service\"]\n",
       ")\n",
       "\n",
       "resp = product_master_search_service.search(\n",
       "  query=\"一番搾りビール\",\n",
       "  columns=[\"product_name\"],\n",
       "  limit=2\n",
       ")\n",
       "\n",
       "# 一度、JSON文字列を辞書型に変換する\n",
       "resp_dict = json.loads(resp.to_json())\n",
       "\n",
       "# 改めてjson.dumpsで日本語を正しく表示する\n",
       "print(json.dumps(resp_dict, ensure_ascii=False, indent=2))"
      ]
     },
     {
      "cell_type": "markdown",
      "id": "124f0452-2b2d-44e6-9276-471cb999342c",
      "metadata": {
       "collapsed": true,
       "name": "md_conclusin_for_cortex_search_54"
      },
      "source": [
       "Cortex Searchは変数による代入が対応しておらず、リテラルのみに対応している。つまり、テーブルデータを一括で突合するというのができないというのが現状である。"
      ]
     }
    ],
    "metadata": {
     "kernelspec": {
      "display_name": "Streamlit Notebook",
      "name": "streamlit"
     },
     "lastEditStatus": {
      "authorEmail": "mariko.nishimi@snowflake.com",
      "authorId": "2704840744152",
      "authorName": "MNISHIMI",
      "lastEditTime": 1749863599907,
      "notebookId": "ix374vgcef6x66xlmuod",
      "sessionId": "6af53b08-b782-4c37-9a19-bdd3977d58f5"
     }
    },
    "nbformat": 4,
    "nbformat_minor": 5
   }
   
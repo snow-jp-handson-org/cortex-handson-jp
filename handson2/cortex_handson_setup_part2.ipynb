{
 "cells": [
  {
   "cell_type": "markdown",
   "id": "aed436e2-c19a-4507-9629-043c1467fd74",
   "metadata": {
    "collapsed": false,
    "name": "cell3"
   },
   "source": [
    "# Cortexハンズオン Part.2 \n",
    "## Cortex Search サービス作成"
   ]
  },
  {
   "cell_type": "markdown",
   "id": "1d866a6e-f096-4c2c-a7e9-50af6f89a61d",
   "metadata": {
    "collapsed": false,
    "name": "cell1"
   },
   "source": [
    "次に、Snowflake内にあるドキュメントデータを検索することを可能にするCortex Searchサービスを作成します。"
   ]
  },
  {
   "cell_type": "code",
   "execution_count": null,
   "id": "f94fba79-c7a9-40f5-871e-36dcfc392bdd",
   "metadata": {
    "language": "sql",
    "name": "create_cortex_search"
   },
   "outputs": [],
   "source": [
    "-- 1. 使用するデータベースとスキーマを指定\n",
    "USE DATABASE SNOWRETAIL_DB;\n",
    "USE SCHEMA SNOWRETAIL_SCHEMA;\n",
    "\n",
    "-- 2. Cortex Search Serviceを作成\n",
    "CREATE OR REPLACE CORTEX SEARCH SERVICE snow_retail_search_service\n",
    "    ON content                        -- 検索対象のテキストデータが含まれるカラム\n",
    "    ATTRIBUTES title, document_type, department -- 検索結果に含めたい属性カラム\n",
    "    WAREHOUSE = 'COMPUTE_WH' -- サービスのインデックス作成に使用するウェアハウス\n",
    "    TARGET_LAG = '1 day'              -- データソーステーブルの変更がインデックスに反映されるまでの最大遅延時間\n",
    "    EMBEDDING_MODEL = 'voyage-multilingual-2' -- テキストのベクトル化に使用する埋め込みモデル \n",
    "    AS\n",
    "        -- 検索対象とするデータを定義するSELECT文\n",
    "        SELECT\n",
    "            document_id,  -- 各ドキュメントの一意なID\n",
    "            title,        -- 属性として使用するタイトル\n",
    "            content,      -- 検索対象のテキストコンテンツ\n",
    "            document_type,-- 属性として使用するドキュメントタイプ\n",
    "            department,   -- 属性として使用する部署名\n",
    "            created_at,   -- オプション：メタデータとして含める作成日時\n",
    "            updated_at,   -- オプション：メタデータとして含める更新日時\n",
    "            version       -- オプション：メタデータとして含めるバージョン\n",
    "        FROM SNOW_RETAIL_DOCUMENTS; -- データソースとなるテーブル"
   ]
  }
 ],
 "metadata": {
  "kernelspec": {
   "display_name": "Streamlit Notebook",
   "name": "streamlit"
  },
  "lastEditStatus": {
   "authorEmail": "tadaki.kanenari@snowflake.com",
   "authorId": "6439694218530",
   "authorName": "TKANENARI",
   "lastEditTime": 1743534500345,
   "notebookId": "pxx3sqazntomh5chpavz",
   "sessionId": "7e506945-8a40-4d40-accf-5de974ab865d"
  }
 },
 "nbformat": 4,
 "nbformat_minor": 5
}

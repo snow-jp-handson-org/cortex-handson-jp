{
 "metadata": {
  "kernelspec": {
   "display_name": "Streamlit Notebook",
   "name": "streamlit"
  },
  "lastEditStatus": {
   "notebookId": "4gu2m7ulgyyxiuus7uin",
   "authorId": "9009591898699",
   "authorName": "SKAWAKAMI",
   "authorEmail": "shinichi.kawakami@snowflake.com",
   "sessionId": "d9850483-84ea-463f-91cb-078ad27d50ed",
   "lastEditTime": 1744972068231
  }
 },
 "nbformat_minor": 5,
 "nbformat": 4,
 "cells": [
  {
   "cell_type": "markdown",
   "id": "5acf6a24-7534-44a4-ba2f-6d9f544b0aef",
   "metadata": {
    "name": "cell5",
    "collapsed": false
   },
   "source": "# Cortexハンズオン Part.2 \n    \nレビューデータの分析準備を行います。以下の処理が行います：\n    \n### 1. テーブル作成と初期設定\n* 分析用テーブル (CUSTOMER_ANALYSIS) の作成\n    \n### 2. レビューテキスト処理\n* **テキスト分割**: SPLIT_TEXT_RECURSIVE_CHARACTER関数を使用して、レビューテキストを300文字以内のチャンクに分割\n* **翻訳処理**: TRANSLATE関数を使用して、日本語のテキストを英語に翻訳\n* **感情分析**: SENTIMENT関数を使用して、翻訳されたテキストの感情スコア (-1〜1) を算出\n* **ベクトル化**: EMBED_TEXT_1024関数を使用して、テキストを1024次元のベクトルデータに変換\n### 3. 分析用データ生成\n* **カテゴリ抽出**: CLASSIFY_TEXT関数を使用して各レビューの内容を分析し、事前に定義されたカテゴリから最も関連性の高いものを設定\n* **単語の抽出**: COMPLETE関数の構造化出力機能を使用して各レビューから重要な単語 (名詞、動詞、形容詞) を抽出し、 出現回数をカウント\n\n### 4. Cortex Search Service作成\n### 5. Cortex Analystで利用するセマンティックモデルの確認"
  },
  {
   "cell_type": "code",
   "id": "aa937735-1812-4ca9-9d3e-f00f69040394",
   "metadata": {
    "language": "sql",
    "name": "cell6"
   },
   "outputs": [],
   "source": "CREATE TABLE IF NOT EXISTS CUSTOMER_ANALYSIS (\n    analysis_id NUMBER AUTOINCREMENT,\n    review_id VARCHAR(20),\n    product_id VARCHAR(10),\n    customer_id VARCHAR(10),\n    rating NUMBER(2,1),\n    review_text TEXT,\n    review_date TIMESTAMP_NTZ,\n    purchase_channel VARCHAR(20),\n    helpful_votes NUMBER(5),\n    chunked_text TEXT,\n    embedding VECTOR(FLOAT, 1024),\n    sentiment_score FLOAT,\n    updated_at TIMESTAMP_NTZ DEFAULT CURRENT_TIMESTAMP()\n);",
   "execution_count": null
  },
  {
   "cell_type": "markdown",
   "id": "fb04ef37-3abd-4268-a682-91da49adab70",
   "metadata": {
    "name": "cell7",
    "collapsed": false
   },
   "source": "### 2. レビューテキスト処理\n1. 未処理のレビューテキストを取得"
  },
  {
   "cell_type": "code",
   "id": "94719875-be01-49ba-8fda-63ae5b247b5c",
   "metadata": {
    "language": "sql",
    "name": "non_reviewed_result"
   },
   "outputs": [],
   "source": "SELECT r.*\nFROM CUSTOMER_REVIEWS r\nLEFT JOIN CUSTOMER_ANALYSIS a\nON r.review_id = a.review_id\nWHERE a.review_id IS NULL",
   "execution_count": null
  },
  {
   "cell_type": "markdown",
   "id": "b1eced37-3f55-4f80-aafb-9d31bfed9f0c",
   "metadata": {
    "name": "cell14",
    "collapsed": false
   },
   "source": "2. 文章全体を英語に翻訳\n\n### TRANSLATE関数\n```sql\nSELECT  \n  SNOWFLKE.CORTEX.TRANSLATE(\n    'こんにちは。Es ist heute schönes Wetter.', '', 'en'\n  );\n```\n```\nHello. It's a beautiful day today.\n```\n* シンプルな関数で14ヶ国語の翻訳をすることが可能\n* 翻訳元の言語は省略することができ、省略した際には翻訳元言語を自動的に認識\n* 翻訳元の言語に複数の言語が混在している場合でも翻訳先言語に翻訳することが可能"
  },
  {
   "cell_type": "code",
   "id": "b0dd7085-d3f2-4599-9feb-cae95579da8e",
   "metadata": {
    "language": "sql",
    "name": "translate_review"
   },
   "outputs": [],
   "source": "SELECT *, SNOWFLAKE.CORTEX.TRANSLATE(REVIEW_TEXT, '', 'en') as review_text_en FROM {{non_reviewed_result}}",
   "execution_count": null
  },
  {
   "cell_type": "markdown",
   "id": "369cc26c-5bc7-4245-899c-6e61bdff7a7d",
   "metadata": {
    "name": "cell12",
    "collapsed": false
   },
   "source": "3. 翻訳されたテキストを感情分析\n\n### SENTIMENT関数\n```sql\nSELECT  \n  SNOWFLKE.CORTEX.SENTIMENT(\n    'This product was borken so please return it.'\n  );\n```\n```\n-0.83841026.\n```\n* テキストから感情スコアを `[-1 〜 1]` の範囲で算出する\n* 例えばカスタマーレビューやアンケートなどから統一した基準で感情をスコアリング可能\n* 現状は英語のテキストのみ対応しているため、前段にTRANSLATE関数を実施するなどの工夫が必要"
  },
  {
   "cell_type": "code",
   "id": "4f335f64-4559-4cf4-8a0f-eb6d32921fd1",
   "metadata": {
    "language": "sql",
    "name": "sentiment_score"
   },
   "outputs": [],
   "source": "SELECT * EXCLUDE review_text_en, SNOWFLAKE.CORTEX.SENTIMENT(review_text_en) as score from {{translate_review}}",
   "execution_count": null
  },
  {
   "cell_type": "markdown",
   "id": "dd7a9aa2-5b4c-44ff-9108-f1b3cde8762e",
   "metadata": {
    "name": "cell15",
    "collapsed": false
   },
   "source": "4. テキストをチャンクに分割\n\n### SPLIT_TEXT_RECURSIVE_CHARACTER関数\n```sql\nSNOWFLAKE.CORTEX.SPLIT_TEXT_RECURSIVE_CHARACTER(\n  text: '### Heading 1\\\\n Sample Title ...’,\n  format: 'markdown’,\n  chunk size: 50,\n  overlap: 10,\n)\n```\n* 使いやすいSQL関数で`長いドキュメントをより効率的な検索のために小さな部分に分割`\n* markdownモードを使用してドキュメント構造を保持し、ヘッダー、コードブロック、テーブルなどのセクションを整理された`自己完結型のユニットに分割`\n* チャンクサイズとオーバーラップ設定を簡単に調整して、`複数のチャンク分割戦略を素早く試験`"
  },
  {
   "cell_type": "code",
   "id": "6007a02a-e106-4fdf-9a5b-9fb018b8c79f",
   "metadata": {
    "language": "sql",
    "name": "chunk_result"
   },
   "outputs": [],
   "source": "SELECT \na.*,\nc.value::varchar as chunk\nFROM {{sentiment_score}} a,\nLATERAL FLATTEN (input =>\n    SNOWFLAKE.CORTEX.SPLIT_TEXT_RECURSIVE_CHARACTER(\n        review_text,\n        'none',\n        300,\n        30\n)) as c",
   "execution_count": null
  },
  {
   "cell_type": "markdown",
   "id": "80568224-036f-406b-94d7-81331bded549",
   "metadata": {
    "name": "cell10",
    "collapsed": false
   },
   "source": "5. ベクトル化してテーブルに登録\n\n ### Cortex Embedding関数\n```sql\nSELECT\n  SNOWFLAKE.CORTEX.EMBED_TEXT_1024(\n    'multilingual-e5-large',\n    product_name\n  ) as product_name_embed\nFROM product_master\n```\n- 対応しているモデル\n\n| embed_text_768 | embed_text_1024 |\n| ---------- | ---------- |\n| snowflake-arctic-embed-m-v1.5 | snowflake-arctic-embed-l-v2.0\n| snowflake-arctic-embed-m | nv-embed-qa-4\n| e5-base-v2 | multilingual-e5-large\n| | voyage-multilingual-2 |\n\n日本語精度の観点だと、下記の順番で良い\n\n`voyage-multi > multi-e5-large > snowflake-arctic`"
  },
  {
   "cell_type": "code",
   "id": "c919c7a6-857a-4b30-9485-9c87569ac2b7",
   "metadata": {
    "language": "python",
    "name": "cell9",
    "collapsed": false,
    "codeCollapsed": true
   },
   "outputs": [],
   "source": "import streamlit as st\nEMBEDDING_MODELS = [\n    \"multilingual-e5-large\",\n    \"voyage-multilingual-2\",\n    \"snowflake-arctic-embed-l-v2.0\",\n    \"nv-embed-qa-4\"\n]\nembedding_model = st.selectbox(\n    \"Embeddingモデルを選択してください\",\n    EMBEDDING_MODELS,\n    index=0\n)",
   "execution_count": null
  },
  {
   "cell_type": "code",
   "id": "5d131a0a-b1a1-4fc4-94b6-503ebb6d32e2",
   "metadata": {
    "language": "sql",
    "name": "cell11"
   },
   "outputs": [],
   "source": "INSERT INTO CUSTOMER_ANALYSIS (\n    review_id,\n    product_id,\n    customer_id,\n    rating,\n    review_text,\n    review_date,\n    purchase_channel,\n    helpful_votes,\n    chunked_text,\n    embedding,\n    sentiment_score\n)\nSELECT\n    review_id,\n    product_id,\n    customer_id,\n    rating,\n    review_text,\n    review_date,\n    purchase_channel,\n    helpful_votes,\n    chunk,\n    SNOWFLAKE.CORTEX.EMBED_TEXT_1024('{{embedding_model}}', chunk),\n    score\nFROM {{chunk_result}}",
   "execution_count": null
  },
  {
   "cell_type": "markdown",
   "id": "fdefc16a-7d4f-4735-9c28-d28064b6f95c",
   "metadata": {
    "name": "cell17",
    "collapsed": false
   },
   "source": "6. 最終結果を確認"
  },
  {
   "cell_type": "code",
   "id": "431071d5-d91d-4c37-bd2d-69c80d5ee9da",
   "metadata": {
    "language": "sql",
    "name": "cell16"
   },
   "outputs": [],
   "source": "SELECT * FROM CUSTOMER_ANALYSIS;",
   "execution_count": null
  },
  {
   "cell_type": "markdown",
   "id": "40d557aa-0738-47d5-8c06-a31e257f9598",
   "metadata": {
    "name": "cell1",
    "collapsed": false
   },
   "source": "### 3. 分析用データ生成\n**カテゴリ抽出**: CLASSIFY_TEXT関数を使用して各レビューの内容を分析し、事前に定義されたカテゴリから最も関連性の高いものを設定"
  },
  {
   "cell_type": "markdown",
   "id": "fff8fe81-8b3f-44ac-8ff7-9479085e1a6d",
   "metadata": {
    "name": "cell8",
    "collapsed": false
   },
   "source": "0. レビュー管理用テーブルの作成"
  },
  {
   "cell_type": "code",
   "id": "25194913-9490-4d4c-86f2-cc5a83ebf3b4",
   "metadata": {
    "language": "sql",
    "name": "cell4"
   },
   "outputs": [],
   "source": "-- カテゴリマスタ\nCREATE TABLE IF NOT EXISTS REVIEW_CATEGORIES (\n            category_id NUMBER AUTOINCREMENT,\n            category_name VARCHAR(100),\n            description TEXT,\n            created_at TIMESTAMP_NTZ DEFAULT CURRENT_TIMESTAMP(),\n            updated_at TIMESTAMP_NTZ DEFAULT CURRENT_TIMESTAMP()\n);",
   "execution_count": null
  },
  {
   "cell_type": "code",
   "id": "dcf74577-988c-4a04-a808-7d32800b639f",
   "metadata": {
    "language": "sql",
    "name": "cell13"
   },
   "outputs": [],
   "source": "-- レビュータグテーブル\nCREATE TABLE IF NOT EXISTS REVIEW_TAGS (\n    tag_id NUMBER AUTOINCREMENT,\n    review_id VARCHAR(20),\n    category_name VARCHAR(100),\n    confidence_score FLOAT,\n    created_at TIMESTAMP_NTZ DEFAULT CURRENT_TIMESTAMP(),\n    updated_at TIMESTAMP_NTZ DEFAULT CURRENT_TIMESTAMP()\n)",
   "execution_count": null
  },
  {
   "cell_type": "code",
   "id": "3d973ef3-22e7-4028-a5aa-a8771639192b",
   "metadata": {
    "language": "sql",
    "name": "cell18"
   },
   "outputs": [],
   "source": "-- 重要単語テーブル\nCREATE TABLE IF NOT EXISTS REVIEW_WORDS (\n    word_id NUMBER AUTOINCREMENT,\n    review_id VARCHAR(20),\n    word VARCHAR(100),\n    word_type VARCHAR(50),\n    frequency NUMBER,\n    created_at TIMESTAMP_NTZ DEFAULT CURRENT_TIMESTAMP(),\n    updated_at TIMESTAMP_NTZ DEFAULT CURRENT_TIMESTAMP()\n)",
   "execution_count": null
  },
  {
   "cell_type": "code",
   "id": "1c2a687b-6c60-4218-8962-9edaaf49fc8e",
   "metadata": {
    "language": "python",
    "name": "category_define"
   },
   "outputs": [],
   "source": "DEFAULT_CATEGORIES = [\n    \"商品の品質\",\n    \"価格\",\n    \"接客サービス\",\n    \"店舗環境\",\n    \"配送・梱包\",\n    \"品揃え\",\n    \"使いやすさ\",\n    \"鮮度\",\n    \"その他\"\n]\ncategories_values = \", \".join([f\"('{category}')\" for category in DEFAULT_CATEGORIES])",
   "execution_count": null
  },
  {
   "cell_type": "code",
   "id": "79e85569-447c-4cbb-ab28-c6625314bb22",
   "metadata": {
    "language": "sql",
    "name": "cell19"
   },
   "outputs": [],
   "source": "-- カテゴリの初期値登録\nINSERT INTO REVIEW_CATEGORIES (category_name)\nSELECT category FROM (VALUES {{categories_values}}) AS v(category)\nWHERE category NOT IN (SELECT category_name FROM REVIEW_CATEGORIES)",
   "execution_count": null
  },
  {
   "cell_type": "markdown",
   "id": "a819a468-bca9-484f-ab17-b09df024a7ec",
   "metadata": {
    "name": "cell22",
    "collapsed": false
   },
   "source": "1. 未レビューデータの抽出"
  },
  {
   "cell_type": "code",
   "id": "74b6bde9-68b2-480b-8c99-07868d1050fa",
   "metadata": {
    "language": "sql",
    "name": "non_tags_result"
   },
   "outputs": [],
   "source": "SELECT r.*\nFROM CUSTOMER_REVIEWS r\nLEFT JOIN REVIEW_TAGS t\nON r.review_id = t.review_id\nWHERE t.review_id IS NULL",
   "execution_count": null
  },
  {
   "cell_type": "markdown",
   "id": "4ab42a55-54b0-478d-897b-b385bcf030b2",
   "metadata": {
    "name": "cell20",
    "collapsed": false
   },
   "source": "2. CLASSIFY_TEXT関数を使用して各レビューの内容を分析し、事前に定義されたカテゴリから最も関連性の高いものを設定\n\n### CLASSIFY_TEXT 関数\n```sql\nSNOWFLAKE.CORTEX.CLASSIFY_TEXT (\n  review_text, -- 対象文字列\n  categories, -- 分類で使用するカテゴリ\n)\n```\n\nインプットテキストの内容をユーザが指定したカテゴリにLLMが分類"
  },
  {
   "cell_type": "code",
   "id": "e8170916-f6c1-4402-94e7-bef43013dc63",
   "metadata": {
    "language": "sql",
    "name": "classified_result"
   },
   "outputs": [],
   "source": "SELECT\n    review_id,\n    SNOWFLAKE.CORTEX.CLASSIFY_TEXT(\n        review_text,\n        {{DEFAULT_CATEGORIES}},\n        {\n            'task_description': 'レビューテキストの内容から最も適切なカテゴリを選択してください。'\n        }\n        \n    ) as classification\nFROM {{non_tags_result}}\n",
   "execution_count": null
  },
  {
   "cell_type": "markdown",
   "id": "8734d80d-faff-492a-ad1c-6b8f39742242",
   "metadata": {
    "name": "cell23",
    "collapsed": false
   },
   "source": "3. タグ情報を登録"
  },
  {
   "cell_type": "code",
   "id": "d271a230-98e8-46c6-81f5-f5c07a256ee1",
   "metadata": {
    "language": "sql",
    "name": "regist_review_tags"
   },
   "outputs": [],
   "source": "INSERT INTO REVIEW_TAGS (\n    review_id,\n    category_name,\n    confidence_score\n)\nSELECT\n  review_id,\n  classification:label::varchar,\n  1.0\nFROM {{classified_result}}",
   "execution_count": null
  },
  {
   "cell_type": "code",
   "id": "5adb18d1-4910-4976-865e-7a70cc27694a",
   "metadata": {
    "language": "sql",
    "name": "cell24"
   },
   "outputs": [],
   "source": "-- 登録結果確認\nSELECT * FROM REVIEW_TAGS;",
   "execution_count": null
  },
  {
   "cell_type": "markdown",
   "id": "5a1e897f-8763-4e38-9c5a-b5be6ef953af",
   "metadata": {
    "name": "cell21",
    "collapsed": false
   },
   "source": "**単語の抽出**: COMPLETE関数の構造化出力機能を使用して各レビューから重要な単語 (名詞、動詞、形容詞) を抽出し、 出現回数をカウント"
  },
  {
   "cell_type": "code",
   "id": "a99c1c66-3a90-4b17-a7ec-07d296fec988",
   "metadata": {
    "language": "sql",
    "name": "non_word_reviews"
   },
   "outputs": [],
   "source": "-- truncate table REVIEW_WORDS;\n\n-- 未処理のレビューを取得\nSELECT r.*\nFROM CUSTOMER_REVIEWS r\nLEFT JOIN REVIEW_WORDS w\nON r.review_id = w.review_id\nWHERE w.review_id IS NULL",
   "execution_count": null
  },
  {
   "cell_type": "markdown",
   "id": "a957046e-cd59-4eb0-9bb5-f2cd15d7891f",
   "metadata": {
    "name": "cell31",
    "collapsed": false
   },
   "source": "2. COMPLETE関数 (with 構造化出力) を利用して単語の頻出頻度を抽出する\n\n### COMPLETE 関数 (with 構造化出力)\n```sql\nSELECT SNOWFLAKE.CORTEX.COMPLETE('mistral-large2', [\n        {\n        'role': 'user',\n        'content': 'Return the customer sentiment for the following review: New kid on the block, this pizza joint! The pie arrived neither in a flash nor a snail\\'s pace, but the taste? Divine! Like a symphony of Italian flavors, it was a party in my mouth. But alas, the party was a tad pricey for my humble abode\\'s standards. A mixed bag, I\\'d say!'\n            }\n    ],\n    {\n        'temperature': 0,\n        'max_tokens': 1000,\n        'response_format':{\n            'type':'json',\n            'schema':{'type' : 'object','properties' : {'sentiment_categories':{'type':'array','items':{'type':'object','properties':\n            {'food_quality' : {'type' : 'string'},'food_taste': {'type':'string'}, 'wait_time': {'type':'string'}, 'food_cost': {'type':'string'}},'required':['food_quality','food_taste' ,'wait_time','food_cost']}}}}\n            }\n    }\n);\n```\nresponse_format引数にJSONスキーマを指定する。指定されたJSONスキーマオブジェクトは、必須フィールドを含め、生成されるテキストが準拠しなければならない構造、データ型、制約を定義します。単純なタスクの場合、出力フォーマットの詳細を指定する必要はありませんし、「JSONで応答する 」ようにモデルに指示する必要もありません。より複雑なタスクの場合、モデルにJSONで応答するように指示することで、精度を向上させることができます。"
  },
  {
   "cell_type": "code",
   "id": "df9ac4f0-ae5b-4179-b3e1-f3a7ce52fc86",
   "metadata": {
    "language": "python",
    "name": "cell27",
    "collapsed": false,
    "codeCollapsed": true
   },
   "outputs": [],
   "source": "COMPLETE_MODELS = [\n    \"claude-3-5-sonnet\",\n    \"deepseek-r1\",\n    \"mistral-large2\",\n    \"llama3.3-70b\",\n    \"snowflake-llama-3.3-70b\"\n]\ncomplete_model = st.selectbox(\n    \"Completeモデルを選択してください\",\n    COMPLETE_MODELS,\n    index=0\n)",
   "execution_count": null
  },
  {
   "cell_type": "code",
   "id": "cd4bb1a1-123d-4efc-9bd9-b01ef4cbe850",
   "metadata": {
    "language": "sql",
    "name": "word_extracts"
   },
   "outputs": [],
   "source": "SELECT SNOWFLAKE.CORTEX.COMPLETE(\n                        '{{complete_model}}',  -- 使用するLLMモデル\n                        [\n                            {\n                                'role': 'system',\n                                'content': '複数のレビューテキストから重要な単語を抽出し、品詞と出現回数を分析してください。各レビューごとに分析結果を提供してください。'\n                            },\n                            {\n                                'role': 'user',\n                                'content': TO_JSON(OBJECT_CONSTRUCT('id', review_id, 'text', review_text))  -- 分析する複数レビューテキスト（JSONフォーマット）\n                            }\n                        ],\n                        {\n                            'temperature': 0,  -- 生成結果の多様性（0=決定的な出力）\n                            'max_tokens': 2000,  -- 最大応答トークン数を増やす\n                            'response_format': {\n                                'type': 'json',\n                                'schema': {\n                                    'type': 'object',\n                                    'properties': {\n                                        'reviews_analysis': {\n                                            'type': 'array',\n                                            'items': {\n                                                'type': 'object',\n                                                'properties': {\n                                                    'review_id': {\n                                                        'type': 'string',\n                                                        'description': 'レビューのID'\n                                                    },\n                                                    'words': {\n                                                        'type': 'array',\n                                                        'items': {\n                                                            'type': 'object',\n                                                            'properties': {\n                                                                'word': {\n                                                                    'type': 'string',\n                                                                    'description': '抽出された単語'\n                                                                },\n                                                                'type': {\n                                                                    'type': 'string',\n                                                                    'enum': ['名詞', '動詞', '形容詞'],\n                                                                    'description': '品詞（名詞、動詞、形容詞のいずれか）'\n                                                                },\n                                                                'frequency': {\n                                                                    'type': 'integer',\n                                                                    'description': '単語の出現回数'\n                                                                }\n                                                            },\n                                                            'required': ['word', 'type', 'frequency']\n                                                        }\n                                                    }\n                                                },\n                                                'required': ['review_id', 'words']\n                                            }\n                                        }\n                                    },\n                                    'required': ['reviews_analysis']\n                                }\n                            }\n                        }\n                    ) as result\nFROM {{non_word_reviews}}",
   "execution_count": null
  },
  {
   "cell_type": "markdown",
   "id": "4e308d10-cd18-4d83-b9cf-0bc9111b8682",
   "metadata": {
    "name": "cell29",
    "collapsed": false
   },
   "source": "3. 構造化されている出力結果から単語情報を処理します"
  },
  {
   "cell_type": "code",
   "id": "c08a8fe9-a367-4d9e-b2a3-cc7bceff513d",
   "metadata": {
    "language": "python",
    "name": "cell25"
   },
   "outputs": [],
   "source": "import json\nimport pandas as pd\n\nreview_words_list = []\n\n# 各レビューの単語情報を処理\nfor item in word_extracts.to_pandas().itertuples(index=False):\n    result = json.loads(item[0])\n\n    structured_output = result.get('structured_output', [{}])[0].get('raw_message', {})\n    reviews_data = structured_output.get('reviews_analysis', [])\n\n    for review_data in reviews_data:\n        review_id = review_data.get('review_id')\n        words_data = review_data.get('words', [])            \n\n        # 単語情報をテーブルに保存\n        local_words_count = 0\n        for word in words_data:\n            # 単語データの検証\n            if not all(k in word for k in ['word', 'type', 'frequency']):\n                continue\n\n            review_words_list.append({\n                \"REVIEW_ID\": review_id,\n                \"WORD\": word['word'],\n                \"WORD_TYPE\": word['type'],\n                \"FREQUENCY\": word['frequency'],\n            })\n\nword_df = pd.DataFrame(review_words_list)\nsession.write_pandas(word_df, \"REVIEW_WORDS\", auto_create_table=False)",
   "execution_count": null
  },
  {
   "cell_type": "markdown",
   "id": "02aeace1-25a2-4f37-8fa3-6e21853ddfc4",
   "metadata": {
    "name": "cell_search_service",
    "collapsed": false
   },
   "source": "### 4. Cortex Search Service作成"
  },
  {
   "cell_type": "code",
   "id": "7321d9e0-9177-48bd-b7f3-9aa5ac552bd1",
   "metadata": {
    "language": "sql",
    "name": "create_cortex_search"
   },
   "outputs": [],
   "source": "-- 1. 使用するデータベースとスキーマを指定\nUSE DATABASE SNOWRETAIL_DB;\nUSE SCHEMA SNOWRETAIL_SCHEMA;\n\n-- 2. Cortex Search Serviceを作成\nCREATE OR REPLACE CORTEX SEARCH SERVICE snow_retail_search_service\n    ON content                        -- 検索対象のテキストデータが含まれるカラム\n    ATTRIBUTES title, document_type, department -- 検索結果に含めたい属性カラム\n    WAREHOUSE = 'COMPUTE_WH' -- サービスのインデックス作成に使用するウェアハウス\n    TARGET_LAG = '1 day'              -- データソーステーブルの変更がインデックスに反映されるまでの最大遅延時間\n    EMBEDDING_MODEL = 'voyage-multilingual-2' -- テキストのベクトル化に使用する埋め込みモデル \n    AS\n        -- 検索対象とするデータを定義するSELECT文\n        SELECT\n            document_id,  -- 各ドキュメントの一意なID\n            title,        -- 属性として使用するタイトル\n            content,      -- 検索対象のテキストコンテンツ\n            document_type,-- 属性として使用するドキュメントタイプ\n            department,   -- 属性として使用する部署名\n            created_at,   -- オプション：メタデータとして含める作成日時\n            updated_at,   -- オプション：メタデータとして含める更新日時\n            version       -- オプション：メタデータとして含めるバージョン\n        FROM SNOW_RETAIL_DOCUMENTS; -- データソースとなるテーブル",
   "execution_count": null
  },
  {
   "cell_type": "markdown",
   "id": "cf628219-10cd-4294-9991-5a883272a600",
   "metadata": {
    "name": "cell2",
    "collapsed": false
   },
   "source": "### 5. Cortex Analystで利用するセマンティックモデルの確認\nCortes Analystで利用するYamlファイルの内容"
  },
  {
   "cell_type": "code",
   "id": "6f234e11-f37e-4483-9190-a635266d8366",
   "metadata": {
    "language": "python",
    "name": "cell3",
    "collapsed": false,
    "codeCollapsed": true
   },
   "outputs": [],
   "source": "from snowflake.snowpark.context import get_active_session\nimport streamlit as st\nimport sys\n\nsession = get_active_session()\nyml = session.file.get(\"@SNOWRETAIL_DB.SNOWRETAIL_SCHEMA.SEMANTIC_MODEL_STAGE/sales_analysis_model.yaml\",\"./\")\n\nimport yaml\n\nwith open('sales_analysis_model.yaml', encoding='utf-8') as f:\n    loaded_document = yaml.safe_load(f)\n\nst.code(yaml.dump(loaded_document, allow_unicode=True), \"yaml\")",
   "execution_count": null
  }
 ]
}
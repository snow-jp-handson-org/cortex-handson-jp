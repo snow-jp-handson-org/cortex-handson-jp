{
    "cells": [
     {
      "cell_type": "markdown",
      "id": "5acf6a24-7534-44a4-ba2f-6d9f544b0aef",
      "metadata": {
       "collapsed": false,
       "name": "md_handson_part2"
      },
      "source": [
       "# Cortexハンズオン Part.2 \n",
       "\n",
       "📝顧客の声分析処理全体フロー\n",
       "    \n",
       "レビューデータの分析準備を行います。以下の処理を行います：\n",
       "    \n",
       "### 1. テーブル作成と初期設定\n",
       "* 分析用テーブル (CUSTOMER_ANALYSIS) の作成\n",
       "    \n",
       "### 2. レビューテキスト処理\n",
       "* **テキスト分割**: SPLIT_TEXT_RECURSIVE_CHARACTER関数を使用して、レビューテキストを300文字以内のチャンクに分割\n",
       "* **翻訳処理**: TRANSLATE関数を使用して、日本語のテキストを英語に翻訳\n",
       "* **感情分析**: SENTIMENT関数を使用して、翻訳されたテキストの感情スコア (-1〜1) を算出\n",
       "* **ベクトル化**: EMBED_TEXT_1024関数を使用して、テキストを1024次元のベクトルデータに変換\n",
       "### 3. 分析用データ生成\n",
       "* **カテゴリ抽出**: CLASSIFY_TEXT関数を使用して各レビューの内容を分析し、事前に定義されたカテゴリから最も関連性の高いものを設定\n",
       "* **単語の抽出**: COMPLETE関数の構造化出力機能を使用して各レビューから重要な単語 (名詞、動詞、形容詞) を抽出し、 出現回数をカウント\n",
       "\n",
       "### 4. Cortex Search Service作成\n",
       "### 5. Cortex Analystで利用するセマンティックモデルの確認"
      ]
     },
     {
      "cell_type": "code",
      "execution_count": null,
      "id": "aa937735-1812-4ca9-9d3e-f00f69040394",
      "metadata": {
       "language": "sql",
       "name": "create_customer_analysis"
      },
      "outputs": [],
      "source": [
       "-- 顧客の声分析用レビューテーブルを作成\n",
       "\n",
       "CREATE TABLE IF NOT EXISTS CUSTOMER_ANALYSIS (\n",
       "    analysis_id NUMBER AUTOINCREMENT,\n",
       "    review_id VARCHAR(20),\n",
       "    product_id VARCHAR(10),\n",
       "    customer_id VARCHAR(10),\n",
       "    rating NUMBER(2,1),\n",
       "    review_text TEXT,\n",
       "    review_date TIMESTAMP_NTZ,\n",
       "    purchase_channel VARCHAR(20),\n",
       "    helpful_votes NUMBER(5),\n",
       "    chunked_text TEXT,\n",
       "    embedding VECTOR(FLOAT, 1024),\n",
       "    sentiment_score FLOAT,\n",
       "    updated_at TIMESTAMP_NTZ DEFAULT CURRENT_TIMESTAMP()\n",
       ");"
      ]
     },
     {
      "cell_type": "markdown",
      "id": "fb04ef37-3abd-4268-a682-91da49adab70",
      "metadata": {
       "collapsed": false,
       "name": "md_review_text"
      },
      "source": [
       "### 2. レビューテキスト処理\n",
       "1. 未処理のレビューテキストを取得"
      ]
     },
     {
      "cell_type": "code",
      "execution_count": null,
      "id": "94719875-be01-49ba-8fda-63ae5b247b5c",
      "metadata": {
       "language": "sql",
       "name": "non_reviewed_result"
      },
      "outputs": [],
      "source": [
       "-- 顧客レビューのうち、まだ分析処理やタグ付け、AIによる分類などが行われていないデータを特定\n",
       "\n",
       "SELECT r.*\n",
       "FROM CUSTOMER_REVIEWS r\n",
       "LEFT JOIN CUSTOMER_ANALYSIS a\n",
       "ON r.review_id = a.review_id\n",
       "WHERE a.review_id IS NULL"
      ]
     },
     {
      "cell_type": "markdown",
      "id": "a8874f7f-ff3d-474e-b1ba-c923f4b73ddc",
      "metadata": {
       "collapsed": false,
       "name": "cell26"
      },
      "source": [
       "📝図解：翻訳と感情スコア"
      ]
     },
     {
      "cell_type": "markdown",
      "id": "b1eced37-3f55-4f80-aafb-9d31bfed9f0c",
      "metadata": {
       "collapsed": false,
       "name": "md_translate"
      },
      "source": [
       "2. 文章全体を英語に翻訳\n",
       "\n",
       "### TRANSLATE関数\n",
       "```sql\n",
       "SELECT  \n",
       "  SNOWFLKE.CORTEX.TRANSLATE(\n",
       "    'こんにちは。Es ist heute schönes Wetter.', '', 'en'\n",
       "  );\n",
       "```\n",
       "```\n",
       "Hello. It's a beautiful day today.\n",
       "```\n",
       "* シンプルな関数で14ヶ国語の翻訳をすることが可能\n",
       "* 翻訳元の言語は省略することができ、省略した際には翻訳元言語を自動的に認識\n",
       "* 翻訳元の言語に複数の言語が混在している場合でも翻訳先言語に翻訳することが可能"
      ]
     },
     {
      "cell_type": "code",
      "execution_count": null,
      "id": "b0dd7085-d3f2-4599-9feb-cae95579da8e",
      "metadata": {
       "language": "sql",
       "name": "translate_review"
      },
      "outputs": [],
      "source": [
       "SELECT *, SNOWFLAKE.CORTEX.TRANSLATE(REVIEW_TEXT, '', 'en') as review_text_en FROM {{non_reviewed_result}}"
      ]
     },
     {
      "cell_type": "markdown",
      "id": "369cc26c-5bc7-4245-899c-6e61bdff7a7d",
      "metadata": {
       "collapsed": false,
       "name": "md_sentiment"
      },
      "source": [
       "3. 翻訳されたテキストを感情分析\n",
       "\n",
       "### SENTIMENT関数\n",
       "```sql\n",
       "SELECT  \n",
       "  SNOWFLKE.CORTEX.SENTIMENT(\n",
       "    'This product was borken so please return it.'\n",
       "  );\n",
       "```\n",
       "```\n",
       "-0.83841026.\n",
       "```\n",
       "* テキストから感情スコアを `[-1 〜 1]` の範囲で算出する\n",
       "* 例えばカスタマーレビューやアンケートなどから統一した基準で感情をスコアリング可能\n",
       "* 現状は英語のテキストのみ対応しているため、前段にTRANSLATE関数を実施するなどの工夫が必要"
      ]
     },
     {
      "cell_type": "code",
      "execution_count": null,
      "id": "4f335f64-4559-4cf4-8a0f-eb6d32921fd1",
      "metadata": {
       "language": "sql",
       "name": "sentiment_score"
      },
      "outputs": [],
      "source": [
       "-- {{translate_review}}の英語レビュー本文（review_text_en）を除外し、レビュー感情スコアをscoreカラムとして付与して残りの全カラムとともに出力\n",
       "\n",
       "SELECT * EXCLUDE review_text_en, SNOWFLAKE.CORTEX.SENTIMENT(review_text_en) as score from {{translate_review}}"
      ]
     },
     {
      "cell_type": "markdown",
      "id": "c93abfdf-7a00-4cef-8d76-296f9853d3cb",
      "metadata": {
       "collapsed": false,
       "name": "cell5"
      },
      "source": [
       "📝図解：チャンク化とベクトル化"
      ]
     },
     {
      "cell_type": "markdown",
      "id": "dd7a9aa2-5b4c-44ff-9108-f1b3cde8762e",
      "metadata": {
       "collapsed": false,
       "name": "md_chunk"
      },
      "source": [
       "4. テキストをチャンクに分割\n",
       "\n",
       "### SPLIT_TEXT_RECURSIVE_CHARACTER関数\n",
       "```sql\n",
       "SNOWFLAKE.CORTEX.SPLIT_TEXT_RECURSIVE_CHARACTER(\n",
       "  text: '### Heading 1\\\\n Sample Title ...’,\n",
       "  format: 'markdown’,\n",
       "  chunk size: 50,\n",
       "  overlap: 10,\n",
       ")\n",
       "```\n",
       "* 使いやすいSQL関数で`長いドキュメントをより効率的な検索のために小さな部分に分割`\n",
       "* markdownモードを使用してドキュメント構造を保持し、ヘッダー、コードブロック、テーブルなどのセクションを整理された`自己完結型のユニットに分割`\n",
       "* チャンクサイズとオーバーラップ設定を簡単に調整して、`複数のチャンク分割戦略を素早く試験`"
      ]
     },
     {
      "cell_type": "code",
      "execution_count": null,
      "id": "6007a02a-e106-4fdf-9a5b-9fb018b8c79f",
      "metadata": {
       "language": "sql",
       "name": "chunk_result"
      },
      "outputs": [],
      "source": [
       "-- {{sentiment_score}}内の各レコードのreview_text列を分割（チャンク化）し、一行ずつフラット化して展開\n",
       "\n",
       "SELECT \n",
       "a.*,\n",
       "c.value::varchar as chunk\n",
       "FROM {{sentiment_score}} a,\n",
       "LATERAL FLATTEN (input =>\n",
       "    SNOWFLAKE.CORTEX.SPLIT_TEXT_RECURSIVE_CHARACTER(\n",
       "        review_text,\n",
       "        'none',\n",
       "        300,\n",
       "        30\n",
       ")) as c"
      ]
     },
     {
      "cell_type": "markdown",
      "id": "80568224-036f-406b-94d7-81331bded549",
      "metadata": {
       "collapsed": false,
       "name": "cell10"
      },
      "source": [
       "5. ベクトル化してテーブルに登録\n",
       "\n",
       " ### Cortex Embedding関数\n",
       "```sql\n",
       "SELECT\n",
       "  SNOWFLAKE.CORTEX.EMBED_TEXT_1024(\n",
       "    'multilingual-e5-large',\n",
       "    product_name\n",
       "  ) as product_name_embed\n",
       "FROM product_master\n",
       "```\n",
       "- 対応しているモデル\n",
       "\n",
       "| embed_text_768 | embed_text_1024 |\n",
       "| ---------- | ---------- |\n",
       "| snowflake-arctic-embed-m-v1.5 | snowflake-arctic-embed-l-v2.0\n",
       "| snowflake-arctic-embed-m | nv-embed-qa-4\n",
       "| e5-base-v2 | multilingual-e5-large\n",
       "| | voyage-multilingual-2 |\n",
       "\n",
       "日本語精度の観点だと、下記の順番で良い\n",
       "\n",
       "`voyage-multi > multi-e5-large > snowflake-arctic`"
      ]
     },
     {
      "cell_type": "code",
      "execution_count": null,
      "id": "c919c7a6-857a-4b30-9485-9c87569ac2b7",
      "metadata": {
       "codeCollapsed": true,
       "collapsed": true,
       "language": "python",
       "name": "cell9"
      },
      "outputs": [],
      "source": [
       "import streamlit as st\n",
       "EMBEDDING_MODELS = [\n",
       "    \"multilingual-e5-large\",\n",
       "    \"voyage-multilingual-2\",\n",
       "    \"snowflake-arctic-embed-l-v2.0\",\n",
       "    \"nv-embed-qa-4\"\n",
       "]\n",
       "embedding_model = st.selectbox(\n",
       "    \"Embeddingモデルを選択してください\",\n",
       "    EMBEDDING_MODELS,\n",
       "    index=0\n",
       ")"
      ]
     },
     {
      "cell_type": "code",
      "execution_count": null,
      "id": "5d131a0a-b1a1-4fc4-94b6-503ebb6d32e2",
      "metadata": {
       "language": "sql",
       "name": "cell11"
      },
      "outputs": [],
      "source": [
       "-- {{chunk_result}}のレビューのチャンク化データをもとに、各チャンクごとにベクトル埋め込みと感情スコアを付与し、CUSTOMER_ANALYSISテーブルに挿入\n",
       "\n",
       "INSERT INTO CUSTOMER_ANALYSIS (\n",
       "    review_id,\n",
       "    product_id,\n",
       "    customer_id,\n",
       "    rating,\n",
       "    review_text,\n",
       "    review_date,\n",
       "    purchase_channel,\n",
       "    helpful_votes,\n",
       "    chunked_text,\n",
       "    embedding,\n",
       "    sentiment_score\n",
       ")\n",
       "SELECT\n",
       "    review_id,\n",
       "    product_id,\n",
       "    customer_id,\n",
       "    rating,\n",
       "    review_text,\n",
       "    review_date,\n",
       "    purchase_channel,\n",
       "    helpful_votes,\n",
       "    chunk,\n",
       "    SNOWFLAKE.CORTEX.EMBED_TEXT_1024('multilingual-e5-large', chunk),\n",
       "    score\n",
       "FROM {{chunk_result}}"
      ]
     },
     {
      "cell_type": "markdown",
      "id": "fdefc16a-7d4f-4735-9c28-d28064b6f95c",
      "metadata": {
       "collapsed": false,
       "name": "md_confirm_result"
      },
      "source": [
       "6. 最終結果を確認"
      ]
     },
     {
      "cell_type": "code",
      "execution_count": null,
      "id": "431071d5-d91d-4c37-bd2d-69c80d5ee9da",
      "metadata": {
       "language": "sql",
       "name": "confirm_customer_analysis"
      },
      "outputs": [],
      "source": [
       "SELECT * FROM CUSTOMER_ANALYSIS;"
      ]
     },
     {
      "cell_type": "markdown",
      "id": "40d557aa-0738-47d5-8c06-a31e257f9598",
      "metadata": {
       "collapsed": false,
       "name": "md_classify"
      },
      "source": [
       "### 3. 分析用データ生成\n",
       "**カテゴリ抽出**: CLASSIFY_TEXT関数を使用して各レビューの内容を分析し、事前に定義されたカテゴリから最も関連性の高いものを設定"
      ]
     },
     {
      "cell_type": "markdown",
      "id": "22b30a61-3adc-46c0-b4db-8c48b7858368",
      "metadata": {
       "collapsed": false,
       "name": "cell1"
      },
      "source": [
       "📝図解：カテゴリ作成と登録"
      ]
     },
     {
      "cell_type": "markdown",
      "id": "fff8fe81-8b3f-44ac-8ff7-9479085e1a6d",
      "metadata": {
       "collapsed": false,
       "name": "md_review_table"
      },
      "source": [
       "0. レビュー管理用テーブルの作成"
      ]
     },
     {
      "cell_type": "code",
      "execution_count": null,
      "id": "25194913-9490-4d4c-86f2-cc5a83ebf3b4",
      "metadata": {
       "language": "sql",
       "name": "create_review_categories"
      },
      "outputs": [],
      "source": [
       "-- カテゴリマスタテーブル作成\n",
       "CREATE TABLE IF NOT EXISTS REVIEW_CATEGORIES (\n",
       "            category_id NUMBER AUTOINCREMENT,\n",
       "            category_name VARCHAR(100),\n",
       "            description TEXT,\n",
       "            created_at TIMESTAMP_NTZ DEFAULT CURRENT_TIMESTAMP(),\n",
       "            updated_at TIMESTAMP_NTZ DEFAULT CURRENT_TIMESTAMP()\n",
       ");"
      ]
     },
     {
      "cell_type": "code",
      "execution_count": null,
      "id": "dcf74577-988c-4a04-a808-7d32800b639f",
      "metadata": {
       "language": "sql",
       "name": "create_review_tags"
      },
      "outputs": [],
      "source": [
       "-- レビュータグテーブル作成\n",
       "CREATE TABLE IF NOT EXISTS REVIEW_TAGS (\n",
       "    tag_id NUMBER AUTOINCREMENT,\n",
       "    review_id VARCHAR(20),\n",
       "    category_name VARCHAR(100),\n",
       "    confidence_score FLOAT,\n",
       "    created_at TIMESTAMP_NTZ DEFAULT CURRENT_TIMESTAMP(),\n",
       "    updated_at TIMESTAMP_NTZ DEFAULT CURRENT_TIMESTAMP()\n",
       ")"
      ]
     },
     {
      "cell_type": "code",
      "execution_count": null,
      "id": "3d973ef3-22e7-4028-a5aa-a8771639192b",
      "metadata": {
       "language": "sql",
       "name": "create_review_words"
      },
      "outputs": [],
      "source": [
       "-- 重要単語テーブル作成\n",
       "CREATE TABLE IF NOT EXISTS REVIEW_WORDS (\n",
       "    word_id NUMBER AUTOINCREMENT,\n",
       "    review_id VARCHAR(20),\n",
       "    word VARCHAR(100),\n",
       "    word_type VARCHAR(50),\n",
       "    frequency NUMBER,\n",
       "    created_at TIMESTAMP_NTZ DEFAULT CURRENT_TIMESTAMP(),\n",
       "    updated_at TIMESTAMP_NTZ DEFAULT CURRENT_TIMESTAMP()\n",
       ")"
      ]
     },
     {
      "cell_type": "code",
      "execution_count": null,
      "id": "1c2a687b-6c60-4218-8962-9edaaf49fc8e",
      "metadata": {
       "language": "python",
       "name": "category_define"
      },
      "outputs": [],
      "source": [
       "# カテゴリのリストの初期値を設定\n",
       "\n",
       "DEFAULT_CATEGORIES = [\n",
       "    \"商品の品質\",\n",
       "    \"価格\",\n",
       "    \"接客サービス\",\n",
       "    \"店舗環境\",\n",
       "    \"配送・梱包\",\n",
       "    \"品揃え\",\n",
       "    \"使いやすさ\",\n",
       "    \"鮮度\",\n",
       "    \"その他\"\n",
       "]\n",
       "categories_values = \", \".join([f\"('{category}')\" for category in DEFAULT_CATEGORIES])"
      ]
     },
     {
      "cell_type": "markdown",
      "id": "5757dfc5-88c8-4863-a9eb-ce104c6389ed",
      "metadata": {
       "collapsed": false,
       "name": "cell4"
      },
      "source": [
       "📝図解：レビューの分類とタグ登録"
      ]
     },
     {
      "cell_type": "code",
      "execution_count": null,
      "id": "79e85569-447c-4cbb-ab28-c6625314bb22",
      "metadata": {
       "language": "sql",
       "name": "insert_review_categories"
      },
      "outputs": [],
      "source": [
       "-- レビューカテゴリの初期値を一括登録。(既存のカテゴリと重複しないものだけをINSERT)\n",
       "\n",
       "INSERT INTO REVIEW_CATEGORIES (category_name)\n",
       "SELECT category FROM (VALUES {{categories_values}}) AS v(category)\n",
       "WHERE category NOT IN (SELECT category_name FROM REVIEW_CATEGORIES)"
      ]
     },
     {
      "cell_type": "markdown",
      "id": "a819a468-bca9-484f-ab17-b09df024a7ec",
      "metadata": {
       "collapsed": false,
       "name": "md_non_review_data"
      },
      "source": [
       "1. 未レビューデータの抽出"
      ]
     },
     {
      "cell_type": "code",
      "execution_count": null,
      "id": "74b6bde9-68b2-480b-8c99-07868d1050fa",
      "metadata": {
       "language": "sql",
       "name": "non_tags_result"
      },
      "outputs": [],
      "source": [
       "-- 顧客レビューのうち、まだ分析処理やタグ付け、AIによる分類などが行われていないデータを特定\n",
       "\n",
       "SELECT r.*\n",
       "FROM CUSTOMER_REVIEWS r\n",
       "LEFT JOIN REVIEW_TAGS t\n",
       "ON r.review_id = t.review_id\n",
       "WHERE t.review_id IS NULL"
      ]
     },
     {
      "cell_type": "markdown",
      "id": "4ab42a55-54b0-478d-897b-b385bcf030b2",
      "metadata": {
       "collapsed": false,
       "name": "md_classify_text"
      },
      "source": [
       "2. CLASSIFY_TEXT関数を使用して各レビューの内容を分析し、事前に定義されたカテゴリから最も関連性の高いものを設定\n",
       "\n",
       "### CLASSIFY_TEXT 関数\n",
       "```sql\n",
       "SNOWFLAKE.CORTEX.CLASSIFY_TEXT (\n",
       "  review_text, -- 対象文字列\n",
       "  categories, -- 分類で使用するカテゴリ\n",
       ")\n",
       "```\n",
       "\n",
       "インプットテキストの内容をユーザが指定したカテゴリにLLMが分類"
      ]
     },
     {
      "cell_type": "code",
      "execution_count": null,
      "id": "e8170916-f6c1-4402-94e7-bef43013dc63",
      "metadata": {
       "language": "sql",
       "name": "classified_result"
      },
      "outputs": [],
      "source": [
       "-- 顧客レビュー（review_text）を事前定義したカテゴリ（{{DEFAULT_CATEGORIES}}）の中から最も適切なものに自動分類し、その結果をclassificationカラムとして出力\n",
       "\n",
       "SELECT\n",
       "    review_id,\n",
       "    SNOWFLAKE.CORTEX.CLASSIFY_TEXT(\n",
       "        review_text,\n",
       "        {{DEFAULT_CATEGORIES}},\n",
       "        {\n",
       "            'task_description': 'レビューテキストの内容から最も適切なカテゴリを選択してください。'\n",
       "        }\n",
       "        \n",
       "    ) as classification\n",
       "FROM {{non_tags_result}}\n"
      ]
     },
     {
      "cell_type": "markdown",
      "id": "8734d80d-faff-492a-ad1c-6b8f39742242",
      "metadata": {
       "collapsed": false,
       "name": "md_review_tags"
      },
      "source": [
       "3. タグ情報を登録"
      ]
     },
     {
      "cell_type": "code",
      "execution_count": null,
      "id": "d271a230-98e8-46c6-81f5-f5c07a256ee1",
      "metadata": {
       "language": "sql",
       "name": "regist_review_tags"
      },
      "outputs": [],
      "source": [
       "-- レビュー分類結果（{{classified_result}}）をもとに、レビューIDごとに分類されたラベル（category_name）をREVIEW_TAGSテーブルへ登録\n",
       "\n",
       "INSERT INTO REVIEW_TAGS (\n",
       "    review_id,\n",
       "    category_name,\n",
       "    confidence_score\n",
       ")\n",
       "SELECT\n",
       "  review_id,\n",
       "  classification:label::varchar,\n",
       "  1.0\n",
       "FROM {{classified_result}}"
      ]
     },
     {
      "cell_type": "code",
      "execution_count": null,
      "id": "5adb18d1-4910-4976-865e-7a70cc27694a",
      "metadata": {
       "language": "sql",
       "name": "select_review_tags"
      },
      "outputs": [],
      "source": [
       "-- 登録結果確認\n",
       "SELECT * FROM REVIEW_TAGS;"
      ]
     },
     {
      "cell_type": "markdown",
      "id": "d30c09d3-24f6-41fc-acc0-e675a1dd264c",
      "metadata": {
       "collapsed": false,
       "name": "cell6"
      },
      "source": [
       "📝図解：単語の頻出頻度の抽出と登録"
      ]
     },
     {
      "cell_type": "markdown",
      "id": "5a1e897f-8763-4e38-9c5a-b5be6ef953af",
      "metadata": {
       "collapsed": false,
       "name": "md_count_word_from_review"
      },
      "source": [
       "**単語の抽出**: COMPLETE関数の構造化出力機能を使用して各レビューから重要な単語 (名詞、動詞、形容詞) を抽出し、 出現回数をカウント"
      ]
     },
     {
      "cell_type": "code",
      "execution_count": null,
      "id": "a99c1c66-3a90-4b17-a7ec-07d296fec988",
      "metadata": {
       "language": "sql",
       "name": "non_word_reviews"
      },
      "outputs": [],
      "source": [
       "-- 顧客レビューのうち、まだ分析処理やタグ付け、AIによる分類などが行われていないデータを特定\n",
       "\n",
       "SELECT r.*\n",
       "FROM CUSTOMER_REVIEWS r\n",
       "LEFT JOIN REVIEW_WORDS w\n",
       "ON r.review_id = w.review_id\n",
       "WHERE w.review_id IS NULL"
      ]
     },
     {
      "cell_type": "markdown",
      "id": "a957046e-cd59-4eb0-9bb5-f2cd15d7891f",
      "metadata": {
       "collapsed": false,
       "name": "md_complete"
      },
      "source": [
       "2. COMPLETE関数 (with 構造化出力) を利用して単語の頻出頻度を抽出する\n",
       "\n",
       "### COMPLETE 関数 (with 構造化出力)\n",
       "```sql\n",
       "SELECT SNOWFLAKE.CORTEX.COMPLETE('mistral-large2', [\n",
       "        {\n",
       "        'role': 'user',\n",
       "        'content': 'Return the customer sentiment for the following review: New kid on the block, this pizza joint! The pie arrived neither in a flash nor a snail\\'s pace, but the taste? Divine! Like a symphony of Italian flavors, it was a party in my mouth. But alas, the party was a tad pricey for my humble abode\\'s standards. A mixed bag, I\\'d say!'\n",
       "            }\n",
       "    ],\n",
       "    {\n",
       "        'temperature': 0,\n",
       "        'max_tokens': 1000,\n",
       "        'response_format':{\n",
       "            'type':'json',\n",
       "            'schema':{'type' : 'object','properties' : {'sentiment_categories':{'type':'array','items':{'type':'object','properties':\n",
       "            {'food_quality' : {'type' : 'string'},'food_taste': {'type':'string'}, 'wait_time': {'type':'string'}, 'food_cost': {'type':'string'}},'required':['food_quality','food_taste' ,'wait_time','food_cost']}}}}\n",
       "            }\n",
       "    }\n",
       ");\n",
       "```\n",
       "response_format引数にJSONスキーマを指定する。指定されたJSONスキーマオブジェクトは、必須フィールドを含め、生成されるテキストが準拠しなければならない構造、データ型、制約を定義します。単純なタスクの場合、出力フォーマットの詳細を指定する必要はありませんし、「JSONで応答する 」ようにモデルに指示する必要もありません。より複雑なタスクの場合、モデルにJSONで応答するように指示することで、精度を向上させることができます。"
      ]
     },
     {
      "cell_type": "code",
      "execution_count": null,
      "id": "df9ac4f0-ae5b-4179-b3e1-f3a7ce52fc86",
      "metadata": {
       "codeCollapsed": true,
       "collapsed": false,
       "language": "python",
       "name": "cell27"
      },
      "outputs": [],
      "source": [
       "COMPLETE_MODELS = [\n",
       "    \"claude-3-5-sonnet\",\n",
       "    \"deepseek-r1\",\n",
       "    \"mistral-large2\",\n",
       "    \"llama3.3-70b\",\n",
       "    \"snowflake-llama-3.3-70b\"\n",
       "]\n",
       "complete_model = st.selectbox(\n",
       "    \"Completeモデルを選択してください\",\n",
       "    COMPLETE_MODELS,\n",
       "    index=0\n",
       ")"
      ]
     },
     {
      "cell_type": "code",
      "execution_count": null,
      "id": "cd4bb1a1-123d-4efc-9bd9-b01ef4cbe850",
      "metadata": {
       "language": "sql",
       "name": "word_extracts"
      },
      "outputs": [],
      "source": [
       "-- COMPLETE関数を活用し、複数のカスタマーレビュー（review_id, review_text）から重要な単語を抽出し、品詞（名詞・動詞・形容詞）と出現回数をレビューごとに分析。\n",
       "-- 結果は指定したJSONスキーマに従い、各レビューごとにreview_idと単語リスト（word, type, frequency）として構造化されて返される\n",
       "\n",
       "SELECT SNOWFLAKE.CORTEX.COMPLETE(\n",
       "                        'claude-3-5-sonnet',  -- 使用するLLMモデル\n",
       "                        [\n",
       "                            {\n",
       "                                'role': 'system',\n",
       "                                'content': '複数のレビューテキストから重要な単語を抽出し、品詞と出現回数を分析してください。各レビューごとに分析結果を提供してください。'\n",
       "                            },\n",
       "                            {\n",
       "                                'role': 'user',\n",
       "                                'content': TO_JSON(OBJECT_CONSTRUCT('id', review_id, 'text', review_text))  -- 分析する複数レビューテキスト（JSONフォーマット）\n",
       "                            }\n",
       "                        ],\n",
       "                        {\n",
       "                            'temperature': 0,  -- 生成結果の多様性（0=決定的な出力）\n",
       "                            'max_tokens': 2000,  -- 最大応答トークン数を増やす\n",
       "                            'response_format': {\n",
       "                                'type': 'json',\n",
       "                                'schema': {\n",
       "                                    'type': 'object',\n",
       "                                    'properties': {\n",
       "                                        'reviews_analysis': {\n",
       "                                            'type': 'array',\n",
       "                                            'items': {\n",
       "                                                'type': 'object',\n",
       "                                                'properties': {\n",
       "                                                    'review_id': {\n",
       "                                                        'type': 'string',\n",
       "                                                        'description': 'レビューのID'\n",
       "                                                    },\n",
       "                                                    'words': {\n",
       "                                                        'type': 'array',\n",
       "                                                        'items': {\n",
       "                                                            'type': 'object',\n",
       "                                                            'properties': {\n",
       "                                                                'word': {\n",
       "                                                                    'type': 'string',\n",
       "                                                                    'description': '抽出された単語'\n",
       "                                                                },\n",
       "                                                                'type': {\n",
       "                                                                    'type': 'string',\n",
       "                                                                    'enum': ['名詞', '動詞', '形容詞'],\n",
       "                                                                    'description': '品詞（名詞、動詞、形容詞のいずれか）'\n",
       "                                                                },\n",
       "                                                                'frequency': {\n",
       "                                                                    'type': 'integer',\n",
       "                                                                    'description': '単語の出現回数'\n",
       "                                                                }\n",
       "                                                            },\n",
       "                                                            'required': ['word', 'type', 'frequency']\n",
       "                                                        }\n",
       "                                                    }\n",
       "                                                },\n",
       "                                                'required': ['review_id', 'words']\n",
       "                                            }\n",
       "                                        }\n",
       "                                    },\n",
       "                                    'required': ['reviews_analysis']\n",
       "                                }\n",
       "                            }\n",
       "                        }\n",
       "                    ) as result\n",
       "FROM {{non_word_reviews}}"
      ]
     },
     {
      "cell_type": "markdown",
      "id": "4e308d10-cd18-4d83-b9cf-0bc9111b8682",
      "metadata": {
       "collapsed": false,
       "name": "md_get_word_result"
      },
      "source": [
       "3. 構造化されている出力結果から単語情報を処理します"
      ]
     },
     {
      "cell_type": "code",
      "execution_count": null,
      "id": "c08a8fe9-a367-4d9e-b2a3-cc7bceff513d",
      "metadata": {
       "language": "python",
       "name": "py_write_review_words"
      },
      "outputs": [],
      "source": [
       "# LLMで抽出・構造化されたレビュー単語情報（JSON）をパースし、\n",
       "# 必要な情報（レビューID、単語、品詞、出現回数）をpandas DataFrameに変換、\n",
       "# そのDataFrameをREVIEW_WORDSテーブルに書き込む\n",
       "\n",
       "from snowflake.snowpark.context import get_active_session\n",
       "session = get_active_session()\n",
       "\n",
       "import json\n",
       "import pandas as pd\n",
       "\n",
       "review_words_list = []\n",
       "\n",
       "# 各レビューの単語情報を処理\n",
       "for item in word_extracts.to_pandas().itertuples(index=False):\n",
       "    result = json.loads(item[0])\n",
       "\n",
       "    structured_output = result.get('structured_output', [{}])[0].get('raw_message', {})\n",
       "    reviews_data = structured_output.get('reviews_analysis', [])\n",
       "\n",
       "    for review_data in reviews_data:\n",
       "        review_id = review_data.get('review_id')\n",
       "        words_data = review_data.get('words', [])            \n",
       "\n",
       "        # 単語情報をテーブルに保存\n",
       "        local_words_count = 0\n",
       "        for word in words_data:\n",
       "            # 単語データの検証\n",
       "            if not all(k in word for k in ['word', 'type', 'frequency']):\n",
       "                continue\n",
       "\n",
       "            review_words_list.append({\n",
       "                \"REVIEW_ID\": review_id,\n",
       "                \"WORD\": word['word'],\n",
       "                \"WORD_TYPE\": word['type'],\n",
       "                \"FREQUENCY\": word['frequency'],\n",
       "            })\n",
       "\n",
       "word_df = pd.DataFrame(review_words_list)\n",
       "session.write_pandas(word_df, \"REVIEW_WORDS\", auto_create_table=False)"
      ]
     },
     {
      "cell_type": "markdown",
      "id": "4c815d31-b765-400f-bfb6-6d4c0e6ec8d8",
      "metadata": {
       "collapsed": false,
       "name": "cell7"
      },
      "source": [
       "📝Streamlitを開く\n"
      ]
     },
     {
      "cell_type": "markdown",
      "id": "374b5eb1-aefd-479c-adb9-b6fa51ad0eb3",
      "metadata": {
       "collapsed": false,
       "name": "cell12"
      },
      "source": [
       "📝Step3: RAGチャットボット\n"
      ]
     },
     {
      "cell_type": "markdown",
      "id": "02aeace1-25a2-4f37-8fa3-6e21853ddfc4",
      "metadata": {
       "collapsed": false,
       "name": "md_search_service"
      },
      "source": [
       "### 4. Cortex Search Service作成"
      ]
     },
     {
      "cell_type": "code",
      "execution_count": null,
      "id": "7321d9e0-9177-48bd-b7f3-9aa5ac552bd1",
      "metadata": {
       "language": "sql",
       "name": "create_cortex_search"
      },
      "outputs": [],
      "source": [
       "-- SNOW_RETAIL_DOCUMENTSテーブルに対してCortex Search Serviceを作成する\n",
       "\n",
       "-- 1. 使用するデータベースとスキーマを指定\n",
       "USE DATABASE SNOWRETAIL_DB;\n",
       "USE SCHEMA SNOWRETAIL_SCHEMA;\n",
       "\n",
       "-- 2. Cortex Search Serviceを作成\n",
       "CREATE OR REPLACE CORTEX SEARCH SERVICE snow_retail_search_service\n",
       "    ON content                        -- 検索対象のテキストデータが含まれるカラム\n",
       "    ATTRIBUTES title, document_type, department -- 検索結果に含めたい属性カラム\n",
       "    WAREHOUSE = 'COMPUTE_WH' -- サービスのインデックス作成に使用するウェアハウス\n",
       "    TARGET_LAG = '1 day'              -- データソーステーブルの変更がインデックスに反映されるまでの最大遅延時間\n",
       "    EMBEDDING_MODEL = 'voyage-multilingual-2' -- テキストのベクトル化に使用する埋め込みモデル \n",
       "    AS\n",
       "        -- 検索対象とするデータを定義するSELECT文\n",
       "        SELECT\n",
       "            document_id,  -- 各ドキュメントの一意なID\n",
       "            title,        -- 属性として使用するタイトル\n",
       "            content,      -- 検索対象のテキストコンテンツ\n",
       "            document_type,-- 属性として使用するドキュメントタイプ\n",
       "            department,   -- 属性として使用する部署名\n",
       "            created_at,   -- オプション：メタデータとして含める作成日時\n",
       "            updated_at,   -- オプション：メタデータとして含める更新日時\n",
       "            version       -- オプション：メタデータとして含めるバージョン\n",
       "        FROM SNOW_RETAIL_DOCUMENTS; -- データソースとなるテーブル"
      ]
     },
     {
      "cell_type": "markdown",
      "id": "ad25fa59-f8d6-4ab5-b93b-6eb9980aa42e",
      "metadata": {
       "collapsed": false,
       "name": "cell8"
      },
      "source": [
       "📝Streamlitを開く\n"
      ]
     },
     {
      "cell_type": "markdown",
      "id": "cf628219-10cd-4294-9991-5a883272a600",
      "metadata": {
       "collapsed": false,
       "name": "cell2"
      },
      "source": [
       "### 5. Cortex Analystで利用するセマンティックモデルの確認\n",
       "Cortes Analystで利用するYamlファイルの内容"
      ]
     },
     {
      "cell_type": "code",
      "execution_count": null,
      "id": "6f234e11-f37e-4483-9190-a635266d8366",
      "metadata": {
       "codeCollapsed": true,
       "collapsed": false,
       "language": "python",
       "name": "cell3"
      },
      "outputs": [],
      "source": [
       "from snowflake.snowpark.context import get_active_session\n",
       "session = get_active_session()\n",
       "\n",
       "import streamlit as st\n",
       "import sys\n",
       "\n",
       "session = get_active_session()\n",
       "yml = session.file.get(\"@SNOWRETAIL_DB.SNOWRETAIL_SCHEMA.SEMANTIC_MODEL_STAGE/sales_analysis_model.yaml\",\"./\")\n",
       "\n",
       "import yaml\n",
       "\n",
       "with open('sales_analysis_model.yaml', encoding='utf-8') as f:\n",
       "    loaded_document = yaml.safe_load(f)\n",
       "\n",
       "st.code(yaml.dump(loaded_document, allow_unicode=True), \"yaml\")"
      ]
     }
    ],
    "metadata": {
     "kernelspec": {
      "display_name": "Streamlit Notebook",
      "name": "streamlit"
     },
     "lastEditStatus": {
      "authorEmail": "mariko.nishimi@snowflake.com",
      "authorId": "2704840744152",
      "authorName": "MNISHIMI",
      "lastEditTime": 1749885296038,
      "notebookId": "joyj6buupnfe75l2gqbr",
      "sessionId": "b6bcefad-50b0-46c8-9617-253df96315a8"
     }
    },
    "nbformat": 4,
    "nbformat_minor": 5
   }
   